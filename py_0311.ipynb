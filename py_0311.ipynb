{
  "nbformat": 4,
  "nbformat_minor": 0,
  "metadata": {
    "colab": {
      "name": "py_0311.ipynb",
      "provenance": [],
      "collapsed_sections": [],
      "authorship_tag": "ABX9TyOFWq7z6PqIJ6s6BCibf2YU",
      "include_colab_link": true
    },
    "kernelspec": {
      "name": "python3",
      "display_name": "Python 3"
    }
  },
  "cells": [
    {
      "cell_type": "markdown",
      "metadata": {
        "id": "view-in-github",
        "colab_type": "text"
      },
      "source": [
        "<a href=\"https://colab.research.google.com/github/ezerwi/algo-quizzes/blob/master/py_0311.ipynb\" target=\"_parent\"><img src=\"https://colab.research.google.com/assets/colab-badge.svg\" alt=\"Open In Colab\"/></a>"
      ]
    },
    {
      "cell_type": "markdown",
      "metadata": {
        "id": "sOirxR4E_kcH",
        "colab_type": "text"
      },
      "source": [
        "### March/11/2020 Exercises"
      ]
    },
    {
      "cell_type": "markdown",
      "metadata": {
        "id": "AhovOS0ILnta",
        "colab_type": "text"
      },
      "source": [
        "# BOJ/1546. 평균"
      ]
    },
    {
      "cell_type": "code",
      "metadata": {
        "id": "0Jd9RCkD_qcU",
        "colab_type": "code",
        "outputId": "f20ad46b-b6a0-42e3-fa87-2c8812c0fb94",
        "colab": {
          "base_uri": "https://localhost:8080/",
          "height": 68
        }
      },
      "source": [
        "n = int(input())\n",
        "\n",
        "line = input().split()\n",
        "nums = [int(i) for i in line]\n",
        "\n",
        "# sum, maxi = 0,0\n",
        "# for _ in nums :\n",
        "#     if int(_) > maxi : maxi = int(_)\n",
        "#     sum += int(_)\n",
        "# print(maxi, sum)\n",
        "\n",
        "# avg, sum2 = 0, 0\n",
        "# for i in range(len(nums)) :\n",
        "#     nums[i] = int(nums[i])/maxi * 100\n",
        "#     sum2 += int(nums[i])\n",
        "#     print(nums[i])\n",
        "\n",
        "# avg = sum2/n\n",
        "# print (sum2, avg)\n",
        "\n",
        "maxi = int (max(nums))\n",
        "sum1 = 0\n",
        "for i in range(len(nums)) :\n",
        "    sum1 += int(nums[i])\n",
        "ret = float((sum1/maxi)/n*100)\n",
        "print (ret)"
      ],
      "execution_count": 0,
      "outputs": [
        {
          "output_type": "stream",
          "text": [
            "3\n",
            "40 80 60\n",
            "75.0\n"
          ],
          "name": "stdout"
        }
      ]
    },
    {
      "cell_type": "markdown",
      "metadata": {
        "id": "nvglUZQPB6Iw",
        "colab_type": "text"
      },
      "source": [
        "### Short Coding\n",
        "\n",
        "map 활용\n",
        "\n",
        "map, lambda를 잘 쓰면 코드 길이가 확실히 크게 줄어드는 듯.."
      ]
    },
    {
      "cell_type": "code",
      "metadata": {
        "id": "hKplRbLpJhvE",
        "colab_type": "code",
        "colab": {}
      },
      "source": [
        "input()\n",
        "*a,=map(int,input().split())\n",
        "print(sum(a)*100/max(a)/len(a))"
      ],
      "execution_count": 0,
      "outputs": []
    },
    {
      "cell_type": "markdown",
      "metadata": {
        "id": "ddKec-DVLw-V",
        "colab_type": "text"
      },
      "source": [
        "# BOJ/8958. OX퀴즈\n"
      ]
    },
    {
      "cell_type": "code",
      "metadata": {
        "id": "kPLD53RvL7f7",
        "colab_type": "code",
        "outputId": "874520ff-0328-41b3-9642-107f1ee7c740",
        "colab": {
          "base_uri": "https://localhost:8080/",
          "height": 204
        }
      },
      "source": [
        "for i in range(int(input())) :\n",
        "    sum, temp = 0, 0\n",
        "    for j in str(input()) :\n",
        "        if j == 'X' :\n",
        "            temp = 0\n",
        "        elif j == 'O' :\n",
        "            temp += 1\n",
        "        sum += temp\n",
        "    print (sum)\n"
      ],
      "execution_count": 0,
      "outputs": [
        {
          "output_type": "stream",
          "text": [
            "5\n",
            "OOXXOXXOOO\n",
            "10\n",
            "OOXXOOXXOO\n",
            "9\n",
            "OXOXOXOXOXOXOX\n",
            "7\n",
            "OOOOOOOOOO\n",
            "55\n",
            "OOOOXOOOOXOOOOX\n",
            "30\n"
          ],
          "name": "stdout"
        }
      ]
    },
    {
      "cell_type": "markdown",
      "metadata": {
        "id": "YjHMN4puMAbK",
        "colab_type": "text"
      },
      "source": [
        "# BOJ/4344. 평균은 넘겠지"
      ]
    },
    {
      "cell_type": "code",
      "metadata": {
        "id": "KyD-GU0KMFkT",
        "colab_type": "code",
        "colab": {
          "base_uri": "https://localhost:8080/",
          "height": 213
        },
        "outputId": "560ab73f-3aef-482c-8f63-3d6e632f9551"
      },
      "source": [
        "c = int(input())\n",
        "exec(\"line = [ int(i) for i in input().split() ];avg = sum(line[1:])/line[0];over=[int(i) for i in line[1:] if i>avg];print('%0.3f%%' % (len(over)/int(line[0])*100) );\"*c)\n"
      ],
      "execution_count": 3,
      "outputs": [
        {
          "output_type": "stream",
          "text": [
            "5\n",
            "5 50 50 70 80 100\n",
            "40.000%\n",
            "7 100 95 90 80 70 60 50\n",
            "57.143%\n",
            "3 70 90 80\n",
            "33.333%\n",
            "3 70 90 81\n",
            "66.667%\n",
            "9 100 99 98 97 96 95 94 93 91\n",
            "55.556%\n"
          ],
          "name": "stdout"
        }
      ]
    },
    {
      "cell_type": "markdown",
      "metadata": {
        "id": "ORd4wsHmW3MQ",
        "colab_type": "text"
      },
      "source": [
        "# BOJ/15596. 정수 N개의 합"
      ]
    },
    {
      "cell_type": "code",
      "metadata": {
        "id": "-C5dYGm5SYkq",
        "colab_type": "code",
        "colab": {}
      },
      "source": [
        "def solve(a) :\n",
        "    return int(sum(a))"
      ],
      "execution_count": 0,
      "outputs": []
    },
    {
      "cell_type": "markdown",
      "metadata": {
        "id": "6F0IM_9YaWeR",
        "colab_type": "text"
      },
      "source": [
        "### Short Coding\n",
        "\n",
        "이건 좀 거의 뭐 사기인듯..ㅋㅋ"
      ]
    },
    {
      "cell_type": "code",
      "metadata": {
        "id": "zJQ0NDZzawHM",
        "colab_type": "code",
        "colab": {}
      },
      "source": [
        "solve=sum"
      ],
      "execution_count": 0,
      "outputs": []
    },
    {
      "cell_type": "markdown",
      "metadata": {
        "id": "ksnh19HJb3oY",
        "colab_type": "text"
      },
      "source": [
        "# BOJ/4673. 셀프 넘버\n",
        "\n",
        "초반에 문제 이해하는 것도 헷갈리고, 런타임 에러 세 번에\n",
        "\n",
        "조건 하나를 잘못 생각해서 시간이 꽤 오래 걸림..\n",
        "\n",
        "메모리\t\t시간\t    코드 길이\n",
        "\n",
        "29436kb\t\t84ms\t\t266kb"
      ]
    },
    {
      "cell_type": "code",
      "metadata": {
        "id": "ns_UJEb6b8gh",
        "colab_type": "code",
        "colab": {}
      },
      "source": [
        "# def sel(num) :\n",
        "#     res = sum([int(i) for i in str(num)]+[int(num)])\n",
        "#     return res\n",
        "    \n",
        "# number = [i for i in range(10001)]\n",
        "# # nums = [1, 3, 5, 7, 9, 20, 31, 42, 53, 64, 75, 86, 97]\n",
        "\n",
        "# for n in range(10001) :\n",
        "#     # print (n, sel(n))\n",
        "#     if sel(n)> 9999 : break\n",
        "#     number[ sel(n) ] = 0\n",
        "\n",
        "# res = sorted(set(number[:int(input())+1]))\n",
        "# res.remove(0)\n",
        "# for _ in res :\n",
        "#     print(_)"
      ],
      "execution_count": 0,
      "outputs": []
    },
    {
      "cell_type": "code",
      "metadata": {
        "id": "GzvW6q1ScLnn",
        "colab_type": "code",
        "colab": {}
      },
      "source": [
        "def sel(num) :\n",
        "    res = sum([int(i) for i in str(num)])+num\n",
        "    return res\n",
        "    \n",
        "number = [i for i in range(10001)]\n",
        "\n",
        "for n in range(10001) :\n",
        "    if sel(n)> 10000 : continue\n",
        "    print(n, sel(n))\n",
        "    number[ sel(n) ] = 0\n",
        "\n",
        "res = sorted(set(number))\n",
        "res.remove(0)\n",
        "for _ in res :\n",
        "    print(_)"
      ],
      "execution_count": 0,
      "outputs": []
    },
    {
      "cell_type": "markdown",
      "metadata": {
        "id": "AofOaXOxwe-7",
        "colab_type": "text"
      },
      "source": [
        "### Short Coding\n",
        "\n",
        "map() 은 Iterator type..\n",
        "\n",
        "python에서 sequence data type은 연산 가능.."
      ]
    },
    {
      "cell_type": "code",
      "metadata": {
        "id": "HeULuPg7xlsp",
        "colab_type": "code",
        "colab": {}
      },
      "source": [
        "r=range(9999);print(*sorted({*r}-{n+sum(map(int,str(n)))for n in r}))"
      ],
      "execution_count": 0,
      "outputs": []
    },
    {
      "cell_type": "code",
      "metadata": {
        "id": "XgirUr75zkUp",
        "colab_type": "code",
        "colab": {
          "base_uri": "https://localhost:8080/",
          "height": 88
        },
        "outputId": "bf28a288-a34e-4ef6-b5aa-91a824bb3d68"
      },
      "source": [
        "print ( list ( map ( lambda x: str(x**2), range(1,15) )))\n",
        "# print ( list ( map ( lambda s : int(s), input().split())) )\n",
        "\n",
        "print ( sum(list(map ( lambda d : int(d), str(58329)))) + 58329 )"
      ],
      "execution_count": 51,
      "outputs": [
        {
          "output_type": "stream",
          "text": [
            "['1', '4', '9', '16', '25', '36', '49', '64', '81', '100', '121', '144', '169', '196']\n",
            "53 34\n",
            "[53, 34]\n",
            "58356\n"
          ],
          "name": "stdout"
        }
      ]
    },
    {
      "cell_type": "markdown",
      "metadata": {
        "id": "D_MHnLX8zl98",
        "colab_type": "text"
      },
      "source": [
        "# SWEA/D1/2072. 홀수만 더하기\n",
        "\n",
        "53,596 kb\n",
        "메모리\n",
        "121 ms\n",
        "실행시간\n",
        "165\n",
        "코드길이"
      ]
    },
    {
      "cell_type": "code",
      "metadata": {
        "id": "sjdFf4RN2b_L",
        "colab_type": "code",
        "colab": {}
      },
      "source": [
        "for x in range(int(input())) :\n",
        "\tline, sum = list(map(lambda i : int(i), input().split())), 0\n",
        "\tfor _ in line :\n",
        "\t\tif _%2==1 : sum+=_\n",
        "\tprint (\"#{} {}\".format(x+1, sum))"
      ],
      "execution_count": 0,
      "outputs": []
    },
    {
      "cell_type": "markdown",
      "metadata": {
        "id": "Iw0cu2UK72vT",
        "colab_type": "text"
      },
      "source": [
        "# SWEA/D2/1859. 백만 장자 프로젝트\n",
        "\n",
        "235,532 kb\n",
        "메모리\n",
        "1,442 ms\n",
        "실행시간\n",
        "288\n",
        "코드길이\n",
        "\n",
        "와 진짜 상상도 못할 데이터가 들어옴\n",
        "\n",
        "원래 문제 자체도 군데군데 꼬아놔서 머리아픈데, test case 파일 자체가 무거워서 안열릴 정도면 말 다한 듯"
      ]
    },
    {
      "cell_type": "code",
      "metadata": {
        "id": "qGURYux-76eD",
        "colab_type": "code",
        "colab": {}
      },
      "source": [
        "# for i in range(int(input())) :\n",
        "#     N = int(input())\n",
        "#     days = list( map ( lambda i : int(i), input().split()))\n",
        "#     res = 0\n",
        "#     for t in range(N) :\n",
        "#         if not days : break\n",
        "#         m = max (days)\n",
        "#         x = days.index(m)\n",
        "#         del days[x]\n",
        "#         res += sum ( [m-n for n in days[:x]] )\n",
        "#         days = days[x:]\n",
        "#     print(f'#{i+1} {res}')"
      ],
      "execution_count": 0,
      "outputs": []
    },
    {
      "cell_type": "code",
      "metadata": {
        "id": "b6HCJIMZJZF0",
        "colab_type": "code",
        "colab": {}
      },
      "source": [
        "for i in range(int(input())) :\n",
        "    N = int(input())\n",
        "    days = list( map ( lambda i : int(i), input().split()))\n",
        "    res = 0\n",
        "    max = days[-1]\n",
        "    for t in range(N,0,-1) :\n",
        "        if max > days[t-1] : res += max-days[t-1]\n",
        "        else : max = days[t-1]\n",
        "    print(f'#{i+1} {res}')"
      ],
      "execution_count": 0,
      "outputs": []
    },
    {
      "cell_type": "markdown",
      "metadata": {
        "id": "UEjh0RZzQswA",
        "colab_type": "text"
      },
      "source": [
        "# SWEA/D2/1204. [S/W 문제해결 기본] 1일차 - 최빈수 구하기\n",
        "간단해 보이는데 정답률이 생각보다 안높은데는 이유가 있었다\n",
        "\n",
        "조건 확인 잘하자.."
      ]
    },
    {
      "cell_type": "code",
      "metadata": {
        "id": "izmueS6lQrav",
        "colab_type": "code",
        "colab": {}
      },
      "source": [
        "for _ in range(int(input())) :\n",
        "    n = int(input())\n",
        "    arr = [0 for i in range(101)]\n",
        "    scores = list( map (lambda i : int(i), input().split()))\n",
        "    for x in scores :\n",
        "        arr[x] += 1\n",
        "    \n",
        "    print( f'#{n} {100-arr[::-1].index(max(arr))}' )"
      ],
      "execution_count": 0,
      "outputs": []
    }
  ]
}