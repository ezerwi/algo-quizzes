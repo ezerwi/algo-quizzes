{
  "nbformat": 4,
  "nbformat_minor": 0,
  "metadata": {
    "colab": {
      "name": "py_0311.ipynb",
      "provenance": [],
      "collapsed_sections": [],
      "authorship_tag": "ABX9TyPmFTXrGRdXRoBA5t7V+CB+",
      "include_colab_link": true
    },
    "kernelspec": {
      "name": "python3",
      "display_name": "Python 3"
    }
  },
  "cells": [
    {
      "cell_type": "markdown",
      "metadata": {
        "id": "view-in-github",
        "colab_type": "text"
      },
      "source": [
        "<a href=\"https://colab.research.google.com/github/ezerwi/algo-quizzes/blob/master/py_0311.ipynb\" target=\"_parent\"><img src=\"https://colab.research.google.com/assets/colab-badge.svg\" alt=\"Open In Colab\"/></a>"
      ]
    },
    {
      "cell_type": "markdown",
      "metadata": {
        "id": "sOirxR4E_kcH",
        "colab_type": "text"
      },
      "source": [
        "### March/11/2020 Exercises"
      ]
    },
    {
      "cell_type": "markdown",
      "metadata": {
        "id": "AhovOS0ILnta",
        "colab_type": "text"
      },
      "source": [
        "# BOJ/1546. 평균"
      ]
    },
    {
      "cell_type": "code",
      "metadata": {
        "id": "0Jd9RCkD_qcU",
        "colab_type": "code",
        "outputId": "f20ad46b-b6a0-42e3-fa87-2c8812c0fb94",
        "colab": {
          "base_uri": "https://localhost:8080/",
          "height": 68
        }
      },
      "source": [
        "n = int(input())\n",
        "\n",
        "line = input().split()\n",
        "nums = [int(i) for i in line]\n",
        "\n",
        "# sum, maxi = 0,0\n",
        "# for _ in nums :\n",
        "#     if int(_) > maxi : maxi = int(_)\n",
        "#     sum += int(_)\n",
        "# print(maxi, sum)\n",
        "\n",
        "# avg, sum2 = 0, 0\n",
        "# for i in range(len(nums)) :\n",
        "#     nums[i] = int(nums[i])/maxi * 100\n",
        "#     sum2 += int(nums[i])\n",
        "#     print(nums[i])\n",
        "\n",
        "# avg = sum2/n\n",
        "# print (sum2, avg)\n",
        "\n",
        "maxi = int (max(nums))\n",
        "sum1 = 0\n",
        "for i in range(len(nums)) :\n",
        "    sum1 += int(nums[i])\n",
        "ret = float((sum1/maxi)/n*100)\n",
        "print (ret)"
      ],
      "execution_count": 0,
      "outputs": [
        {
          "output_type": "stream",
          "text": [
            "3\n",
            "40 80 60\n",
            "75.0\n"
          ],
          "name": "stdout"
        }
      ]
    },
    {
      "cell_type": "markdown",
      "metadata": {
        "id": "nvglUZQPB6Iw",
        "colab_type": "text"
      },
      "source": [
        "### Short Coding\n",
        "\n",
        "map 활용\n",
        "\n",
        "map, lambda를 잘 쓰면 코드 길이가 확실히 크게 줄어드는 듯.."
      ]
    },
    {
      "cell_type": "code",
      "metadata": {
        "id": "hKplRbLpJhvE",
        "colab_type": "code",
        "colab": {}
      },
      "source": [
        "input()\n",
        "*a,=map(int,input().split())\n",
        "print(sum(a)*100/max(a)/len(a))"
      ],
      "execution_count": 0,
      "outputs": []
    },
    {
      "cell_type": "markdown",
      "metadata": {
        "id": "ddKec-DVLw-V",
        "colab_type": "text"
      },
      "source": [
        "# BOJ/8958. OX퀴즈\n"
      ]
    },
    {
      "cell_type": "code",
      "metadata": {
        "id": "kPLD53RvL7f7",
        "colab_type": "code",
        "colab": {
          "base_uri": "https://localhost:8080/",
          "height": 164
        },
        "outputId": "b7a952ed-b041-46d2-f543-995fe81140d7"
      },
      "source": [
        ""
      ],
      "execution_count": 18,
      "outputs": [
        {
          "output_type": "error",
          "ename": "NameError",
          "evalue": "ignored",
          "traceback": [
            "\u001b[0;31m---------------------------------------------------------------------------\u001b[0m",
            "\u001b[0;31mNameError\u001b[0m                                 Traceback (most recent call last)",
            "\u001b[0;32m<ipython-input-18-9bbb48aad44f>\u001b[0m in \u001b[0;36m<module>\u001b[0;34m()\u001b[0m\n\u001b[0;32m----> 1\u001b[0;31m \u001b[0mㅑㅜㅑㅜ\u001b[0m\u001b[0;34m\u001b[0m\u001b[0;34m\u001b[0m\u001b[0m\n\u001b[0m",
            "\u001b[0;31mNameError\u001b[0m: name 'ᅣᅮᅣᅮ' is not defined"
          ]
        }
      ]
    },
    {
      "cell_type": "markdown",
      "metadata": {
        "id": "YjHMN4puMAbK",
        "colab_type": "text"
      },
      "source": [
        "# BOJ/4344. 평균은 넘겠지"
      ]
    },
    {
      "cell_type": "code",
      "metadata": {
        "id": "KyD-GU0KMFkT",
        "colab_type": "code",
        "colab": {}
      },
      "source": [
        ""
      ],
      "execution_count": 0,
      "outputs": []
    }
  ]
}