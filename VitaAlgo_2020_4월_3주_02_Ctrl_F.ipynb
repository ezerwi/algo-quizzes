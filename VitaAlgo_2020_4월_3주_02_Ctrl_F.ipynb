{
  "nbformat": 4,
  "nbformat_minor": 0,
  "metadata": {
    "colab": {
      "name": "VitaAlgo_2020-4월-3주-02_Ctrl_F.ipynb",
      "provenance": [],
      "collapsed_sections": [],
      "authorship_tag": "ABX9TyOn9Zu9vxhGPttkwjo+pk8p",
      "include_colab_link": true
    },
    "kernelspec": {
      "name": "python3",
      "display_name": "Python 3"
    }
  },
  "cells": [
    {
      "cell_type": "markdown",
      "metadata": {
        "id": "view-in-github",
        "colab_type": "text"
      },
      "source": [
        "<a href=\"https://colab.research.google.com/github/gitgitWi/algo-quizzes/blob/master/VitaAlgo_2020_4%EC%9B%94_3%EC%A3%BC_02_Ctrl_F.ipynb\" target=\"_parent\"><img src=\"https://colab.research.google.com/assets/colab-badge.svg\" alt=\"Open In Colab\"/></a>"
      ]
    },
    {
      "cell_type": "markdown",
      "metadata": {
        "id": "Chi3A_ynJS7D",
        "colab_type": "text"
      },
      "source": [
        "[위클리 비타알고 중급편](https://edu.goorm.io/lecture/18444/프리미엄-알고리즘-시즌3-위클리-비타알고-중급편)\n",
        "\n",
        "4월 3주차  02"
      ]
    },
    {
      "cell_type": "markdown",
      "metadata": {
        "id": "Jdn9qOFY1Uoy",
        "colab_type": "text"
      },
      "source": [
        "# Ctrl + F\n",
        "## Lv3."
      ]
    },
    {
      "cell_type": "markdown",
      "metadata": {
        "id": "UW10z5BCD1hV",
        "colab_type": "text"
      },
      "source": [
        "***1차 제출 ==  Timeout!!***\n",
        "\n",
        "기냥 brute force  방식이 맞았던 걸까..."
      ]
    },
    {
      "cell_type": "code",
      "metadata": {
        "id": "RuDUnqNv1f2P",
        "colab_type": "code",
        "colab": {}
      },
      "source": [
        "line = [ i for i in input() ]\n",
        "search = [ j for j in input() ]\n",
        "m = len(search)\n",
        "front = search[0]\n",
        "idx = 0\n",
        "while 1 :\n",
        "\t\n",
        "\ttry : \n",
        "\t\ttmp = line.index(front)\n",
        "\texcept : \n",
        "\t\tbreak\n",
        "\t# print (idx+1)\n",
        "\tline = line[tmp:]\n",
        "\t# print (\"line : \", line)\n",
        "\tif len(line) < m : break\n",
        "\tcheck = True\n",
        "\tfor _ in range(m) :\n",
        "\t\tif line[_] != search[_] : \n",
        "\t\t\tcheck = False\n",
        "\t\t\tbreak\n",
        "\t\t\t\n",
        "\tidx += tmp + 1\n",
        "\tif check == True : \n",
        "\t\tprint(idx)\n",
        "\tline = line[1:]"
      ],
      "execution_count": 0,
      "outputs": []
    },
    {
      "cell_type": "markdown",
      "metadata": {
        "id": "QkqvdipbE_wL",
        "colab_type": "text"
      },
      "source": [
        "***2차 제출 ==  Almost Pass***\n",
        "\n",
        "\n",
        "4번 하나만 Timeout, 나머지 9개는 Pass\n",
        "\n",
        "조건 하나 더 추가해도 마찬가지..."
      ]
    },
    {
      "cell_type": "code",
      "metadata": {
        "id": "1FDI3uW7G1kr",
        "colab_type": "code",
        "colab": {}
      },
      "source": [
        "line = [ i for i in input() ]\n",
        "n = len(line)\n",
        "search = [ j for j in input() ]\n",
        "m = len(search)\n",
        "front = search[0]\n",
        "\n",
        "for _ in range(n) :\n",
        "\tif n-_ < m : break\n",
        "\tif line[_] == front :\n",
        "\t\tcheck = True\n",
        "\t\tfor k in range(1, m) :\n",
        "\t\t\tif line [_+k] != search[k] : \n",
        "\t\t\t\tcheck = False\n",
        "\t\t\t\tbreak\n",
        "\t\tif check == True : print (_+1)"
      ],
      "execution_count": 0,
      "outputs": []
    },
    {
      "cell_type": "code",
      "metadata": {
        "id": "phdMmlhiG9yy",
        "colab_type": "code",
        "colab": {}
      },
      "source": [
        "line = [ i for i in input() ]\n",
        "n = len(line)\n",
        "search = [ j for j in input() ]\n",
        "m = len(search)\n",
        "\n",
        "for _ in range(n) :\n",
        "\tif n-_ < m : break\n",
        "\tif line[_] == search[0] and line[_+m-1] == search[-1] :\n",
        "\t\tcheck = True\n",
        "\t\tfor k in range(1, m) :\n",
        "\t\t\tif line [_+k] != search[k] : \n",
        "\t\t\t\tcheck = False\n",
        "\t\t\t\tbreak\n",
        "\t\tif check == True : print (_+1)"
      ],
      "execution_count": 0,
      "outputs": []
    }
  ]
}