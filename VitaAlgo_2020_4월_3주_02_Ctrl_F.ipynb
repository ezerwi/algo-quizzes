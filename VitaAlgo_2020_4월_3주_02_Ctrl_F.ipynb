{
  "nbformat": 4,
  "nbformat_minor": 0,
  "metadata": {
    "colab": {
      "name": "VitaAlgo_2020-4월-3주-02_Ctrl_F.ipynb",
      "provenance": [],
      "collapsed_sections": [],
      "authorship_tag": "ABX9TyPEJ/0zWJfRC0eItSPIngKC",
      "include_colab_link": true
    },
    "kernelspec": {
      "name": "python3",
      "display_name": "Python 3"
    }
  },
  "cells": [
    {
      "cell_type": "markdown",
      "metadata": {
        "id": "view-in-github",
        "colab_type": "text"
      },
      "source": [
        "<a href=\"https://colab.research.google.com/github/gitgitWi/algo-quizzes/blob/master/VitaAlgo_2020_4%EC%9B%94_3%EC%A3%BC_02_Ctrl_F.ipynb\" target=\"_parent\"><img src=\"https://colab.research.google.com/assets/colab-badge.svg\" alt=\"Open In Colab\"/></a>"
      ]
    },
    {
      "cell_type": "markdown",
      "metadata": {
        "id": "Chi3A_ynJS7D",
        "colab_type": "text"
      },
      "source": [
        "[위클리 비타알고 중급편](https://edu.goorm.io/learn/lecture/18444/%ED%94%84%EB%A6%AC%EB%AF%B8%EC%97%84-%EC%95%8C%EA%B3%A0%EB%A6%AC%EC%A6%98-%EC%8B%9C%EC%A6%8C3-%EC%9C%84%ED%81%B4%EB%A6%AC-%EB%B9%84%ED%83%80%EC%95%8C%EA%B3%A0-%EC%A4%91%EA%B8%89%ED%8E%B8/lesson/957424/4%EC%9B%94-3%EC%A3%BC%EC%B0%A8-ctrl-f-3)\n",
        "\n",
        "4월 3주차  02"
      ]
    },
    {
      "cell_type": "markdown",
      "metadata": {
        "id": "Jdn9qOFY1Uoy",
        "colab_type": "text"
      },
      "source": [
        "# Ctrl + F\n",
        "## Lv3."
      ]
    },
    {
      "cell_type": "markdown",
      "metadata": {
        "id": "UW10z5BCD1hV",
        "colab_type": "text"
      },
      "source": [
        "***1차 제출 ==  Timeout!!***\n",
        "\n",
        "기냥 brute force  방식이 맞았던 걸까..."
      ]
    },
    {
      "cell_type": "code",
      "metadata": {
        "id": "RuDUnqNv1f2P",
        "colab_type": "code",
        "colab": {}
      },
      "source": [
        "line = [ i for i in input() ]\n",
        "search = [ j for j in input() ]\n",
        "m = len(search)\n",
        "front = search[0]\n",
        "idx = 0\n",
        "while 1 :\n",
        "\t\n",
        "\ttry : \n",
        "\t\ttmp = line.index(front)\n",
        "\texcept : \n",
        "\t\tbreak\n",
        "\t# print (idx+1)\n",
        "\tline = line[tmp:]\n",
        "\t# print (\"line : \", line)\n",
        "\tif len(line) < m : break\n",
        "\tcheck = True\n",
        "\tfor _ in range(m) :\n",
        "\t\tif line[_] != search[_] : \n",
        "\t\t\tcheck = False\n",
        "\t\t\tbreak\n",
        "\t\t\t\n",
        "\tidx += tmp + 1\n",
        "\tif check == True : \n",
        "\t\tprint(idx)\n",
        "\tline = line[1:]"
      ],
      "execution_count": 0,
      "outputs": []
    },
    {
      "cell_type": "markdown",
      "metadata": {
        "id": "QkqvdipbE_wL",
        "colab_type": "text"
      },
      "source": [
        "***2차 제출 ==  Almost Pass***\n",
        "\n",
        "\n",
        "4번 하나만 Timeout, 나머지 9개는 Pass\n",
        "\n",
        "조건 하나 더 추가해도 마찬가지..."
      ]
    },
    {
      "cell_type": "code",
      "metadata": {
        "id": "1FDI3uW7G1kr",
        "colab_type": "code",
        "colab": {}
      },
      "source": [
        "line = [ i for i in input() ]\n",
        "n = len(line)\n",
        "search = [ j for j in input() ]\n",
        "m = len(search)\n",
        "front = search[0]\n",
        "\n",
        "for _ in range(n) :\n",
        "\tif n-_ < m : break\n",
        "\tif line[_] == front :\n",
        "\t\tcheck = True\n",
        "\t\tfor k in range(1, m) :\n",
        "\t\t\tif line [_+k] != search[k] : \n",
        "\t\t\t\tcheck = False\n",
        "\t\t\t\tbreak\n",
        "\t\tif check == True : print (_+1)"
      ],
      "execution_count": 0,
      "outputs": []
    },
    {
      "cell_type": "code",
      "metadata": {
        "id": "phdMmlhiG9yy",
        "colab_type": "code",
        "colab": {}
      },
      "source": [
        "line = [ i for i in input() ]\n",
        "n = len(line)\n",
        "search = [ j for j in input() ]\n",
        "m = len(search)\n",
        "\n",
        "for _ in range(n) :\n",
        "\tif n-_ < m : break\n",
        "\tif line[_] == search[0] and line[_+m-1] == search[-1] :\n",
        "\t\tcheck = True\n",
        "\t\tfor k in range(1, m) :\n",
        "\t\t\tif line [_+k] != search[k] : \n",
        "\t\t\t\tcheck = False\n",
        "\t\t\t\tbreak\n",
        "\t\tif check == True : print (_+1)"
      ],
      "execution_count": 0,
      "outputs": []
    },
    {
      "cell_type": "markdown",
      "metadata": {
        "id": "YeB7NymyLGqq",
        "colab_type": "text"
      },
      "source": [
        "***2차 제출 ==  Still Timeout***\n",
        "\n",
        "방식을 좀 바꿔봐도 4번은 여전히 timeout\n",
        "\n",
        "설마 Python이라 안되는 건...아니겠지...??"
      ]
    },
    {
      "cell_type": "code",
      "metadata": {
        "id": "5ZhWMbgvK_1Y",
        "colab_type": "code",
        "colab": {}
      },
      "source": [
        "line = input()\n",
        "n = len(line)\n",
        "search = input()\n",
        "m = len(search)\n",
        "\n",
        "for idx, word in enumerate(line) :\n",
        "    if n - idx < m : break\n",
        "    if word == search[0] and line[idx + m-1] == search[-1]:\n",
        "        check = True\n",
        "        for sidx, sword in enumerate(search) : \n",
        "            if line[idx + sidx] != sword : \n",
        "                check = False\n",
        "                break\n",
        "        if check == True : print (idx+1)"
      ],
      "execution_count": 0,
      "outputs": []
    },
    {
      "cell_type": "code",
      "metadata": {
        "id": "Fr1Fz_UnOBR-",
        "colab_type": "code",
        "colab": {
          "base_uri": "https://localhost:8080/",
          "height": 89
        },
        "outputId": "c9cbc92f-5e0e-4e39-a434-723d0565b615"
      },
      "source": [
        "line = input()\n",
        "n = len(line)\n",
        "search = input()\n",
        "m = len(search)\n",
        "\n",
        "if m == 1 : \n",
        "    for idx, word in enumerate(line) : \n",
        "        if word == search : print (idx+1)\n",
        "\n",
        "elif m > 1 : \n",
        "    idx = 0\n",
        "    while line : \n",
        "        if search in line : \n",
        "            i = line.index(search) + 1\n",
        "            idx += i\n",
        "            print (idx)\n",
        "            line = line[i:]\n",
        "        else : break"
      ],
      "execution_count": 19,
      "outputs": [
        {
          "output_type": "stream",
          "text": [
            "abbbababaccb\n",
            "baba\n",
            "4\n",
            "6\n"
          ],
          "name": "stdout"
        }
      ]
    }
  ]
}