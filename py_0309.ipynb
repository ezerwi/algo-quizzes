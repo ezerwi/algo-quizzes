{
  "nbformat": 4,
  "nbformat_minor": 0,
  "metadata": {
    "colab": {
      "name": "py_0309.ipynb",
      "provenance": [],
      "collapsed_sections": [],
      "authorship_tag": "ABX9TyN0lOAfjuJL0kpRDEg5LRyr",
      "include_colab_link": true
    },
    "kernelspec": {
      "name": "python3",
      "display_name": "Python 3"
    }
  },
  "cells": [
    {
      "cell_type": "markdown",
      "metadata": {
        "id": "view-in-github",
        "colab_type": "text"
      },
      "source": [
        "<a href=\"https://colab.research.google.com/github/ezerwi/algo-quizzes/blob/master/py_0309.ipynb\" target=\"_parent\"><img src=\"https://colab.research.google.com/assets/colab-badge.svg\" alt=\"Open In Colab\"/></a>"
      ]
    },
    {
      "cell_type": "markdown",
      "metadata": {
        "id": "dC9JZya1qGxl",
        "colab_type": "text"
      },
      "source": [
        "# March/09/2020 Exercises\n",
        "\n",
        "python 기초 문법 연습.."
      ]
    },
    {
      "cell_type": "code",
      "metadata": {
        "id": "imr-hAXgKRu8",
        "colab_type": "code",
        "outputId": "17b362b3-af95-4f7f-f76c-34d88fce2868",
        "colab": {
          "base_uri": "https://localhost:8080/",
          "height": 54
        }
      },
      "source": [
        "squares = list(map(lambda x: x**2, range(10)))\n",
        "print(squares)\n",
        "\n",
        "mp = map(lambda x: x**2, range(10))\n",
        "for i in mp :\n",
        "  print (i, end='\\t')"
      ],
      "execution_count": 0,
      "outputs": [
        {
          "output_type": "stream",
          "text": [
            "[0, 1, 4, 9, 16, 25, 36, 49, 64, 81]\n",
            "0\t1\t4\t9\t16\t25\t36\t49\t64\t81\t"
          ],
          "name": "stdout"
        }
      ]
    },
    {
      "cell_type": "code",
      "metadata": {
        "id": "0wHhQmKKOuZD",
        "colab_type": "code",
        "outputId": "1fbc12e8-b036-4ac6-f410-9e4983698a84",
        "colab": {
          "base_uri": "https://localhost:8080/",
          "height": 35
        }
      },
      "source": [
        " vec = [[1,2,3], [4,5,6], [7,8,9]]\n",
        "x = [num for elem in vec for num in elem] \n",
        "print (x)"
      ],
      "execution_count": 0,
      "outputs": [
        {
          "output_type": "stream",
          "text": [
            "[1, 2, 3, 4, 5, 6, 7, 8, 9]\n"
          ],
          "name": "stdout"
        }
      ]
    },
    {
      "cell_type": "code",
      "metadata": {
        "id": "zaQfujUjQDXU",
        "colab_type": "code",
        "outputId": "1fbc467e-064f-4fd1-a923-348d3244b9b0",
        "colab": {
          "base_uri": "https://localhost:8080/",
          "height": 54
        }
      },
      "source": [
        "matrix = [\n",
        "     [1, 2, 3, 4],\n",
        "     [5, 6, 7, 8],\n",
        "     [9, 10, 11, 12],\n",
        " ]\n",
        "\n",
        "x = [num for elem in matrix for num in elem]\n",
        "print (x)\n",
        "\n",
        "y = [[row[i] for row in matrix] for i in range(len(matrix[0]))]\n",
        "print(y)"
      ],
      "execution_count": 0,
      "outputs": [
        {
          "output_type": "stream",
          "text": [
            "[1, 2, 3, 4, 5, 6, 7, 8, 9, 10, 11, 12]\n",
            "[[1, 5, 9], [2, 6, 10], [3, 7, 11], [4, 8, 12]]\n"
          ],
          "name": "stdout"
        }
      ]
    },
    {
      "cell_type": "code",
      "metadata": {
        "id": "YgruHvY7QgBv",
        "colab_type": "code",
        "outputId": "f839e462-2f26-49d6-a4ea-995383c606d3",
        "colab": {
          "base_uri": "https://localhost:8080/",
          "height": 73
        }
      },
      "source": [
        "x = [1, 2, 3]\n",
        "y = [4, 5, 6]\n",
        "z1 = list(zip (x, y))\n",
        "x2, y2 = list(zip(*zip(x,y)))\n",
        "print (z1)\n",
        "print (x2)\n",
        "print (y2)"
      ],
      "execution_count": 0,
      "outputs": [
        {
          "output_type": "stream",
          "text": [
            "[(1, 4), (2, 5), (3, 6)]\n",
            "(1, 2, 3)\n",
            "(4, 5, 6)\n"
          ],
          "name": "stdout"
        }
      ]
    },
    {
      "cell_type": "code",
      "metadata": {
        "id": "dokQh3X-Sbuc",
        "colab_type": "code",
        "outputId": "c6c79533-7bea-4824-8d7c-6466d181c88f",
        "colab": {
          "base_uri": "https://localhost:8080/",
          "height": 92
        }
      },
      "source": [
        "x = [1, 2, 3,4,5,6,]\n",
        "\n",
        "i = 7\n",
        "print(i not in x)\n",
        "print ( x.count(4) )\n",
        "\n",
        "print ( x.index(4, 2, 5))\n",
        "print ( list(range(10, 300, 20)) )"
      ],
      "execution_count": 0,
      "outputs": [
        {
          "output_type": "stream",
          "text": [
            "True\n",
            "1\n",
            "3\n",
            "[10, 30, 50, 70, 90, 110, 130, 150, 170, 190, 210, 230, 250, 270, 290]\n"
          ],
          "name": "stdout"
        }
      ]
    },
    {
      "cell_type": "markdown",
      "metadata": {
        "id": "8_7Jm7UOWcQl",
        "colab_type": "text"
      },
      "source": [
        "## 오늘의 문제\n",
        "\n"
      ]
    }
  ]
}