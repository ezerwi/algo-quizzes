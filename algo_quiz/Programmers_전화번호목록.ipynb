{
 "cells": [
  {
   "cell_type": "markdown",
   "metadata": {},
   "source": [
    "- mkdate : 2020-05-16\n",
    "- judge : Programmers\n",
    "- url : https://programmers.co.kr/learn/courses/30/lessons/42577\n",
    "\n",
    "<br />\n",
    "\n",
    "# 전화번호 목록\n",
    "\n",
    "## Level 2 / Hash"
   ]
  },
  {
   "cell_type": "markdown",
   "metadata": {},
   "source": [
    "## 1st Try\n",
    "\n",
    "가장 짧은 길이 찾고, 모든 번호 중에서 그 길이에 맞는 접두사 찾기\n",
    "\n",
    "가장 짧지 않지만, 다른 번호의 접두가 되는 경우가 있어서 실패"
   ]
  },
  {
   "cell_type": "code",
   "execution_count": 1,
   "metadata": {},
   "outputs": [],
   "source": [
    "def solution(phone_book) :\n",
    "    \n",
    "    len_phones = [ len(phone) for phone in phone_book ]\n",
    "    mini = min(len_phones)\n",
    "\n",
    "    pres = []\n",
    "\n",
    "    for phone in phone_book :\n",
    "        if phone[:mini] in pres :\n",
    "            return False\n",
    "        pres.append(phone[:mini])\n",
    "        print (pres)\n",
    "    \n",
    "    return True"
   ]
  },
  {
   "cell_type": "code",
   "execution_count": 5,
   "metadata": {},
   "outputs": [
    {
     "output_type": "stream",
     "name": "stdout",
     "text": "['976']\n"
    },
    {
     "output_type": "execute_result",
     "data": {
      "text/plain": "False"
     },
     "metadata": {},
     "execution_count": 5
    }
   ],
   "source": [
    "solution([\"97674223\", \"976124\", \"118\"])"
   ]
  },
  {
   "cell_type": "markdown",
   "metadata": {},
   "source": [
    "## 2nd Try\n",
    "\n",
    "기껏 sorting 해놓고 for-loop에서 안씀 ㅋㅋ"
   ]
  },
  {
   "cell_type": "code",
   "execution_count": 27,
   "metadata": {},
   "outputs": [],
   "source": [
    "def solution(phone_book) :\n",
    "    \n",
    "    sorted_pb = sorted(dict([ (phone, len(phone)) for phone in phone_book ]).items(), key=(lambda x : x[1]))\n",
    "\n",
    "    print (sorted_pb)\n",
    "\n",
    "    for idx, iphone in enumerate (phone_book) :\n",
    "        for jdx, jphone in enumerate (phone_book[idx+1:]) :\n",
    "            if jphone[:len(iphone)] == iphone : return False\n",
    "    return True\n"
   ]
  },
  {
   "cell_type": "code",
   "execution_count": 16,
   "metadata": {},
   "outputs": [
    {
     "output_type": "stream",
     "name": "stdout",
     "text": "[('118', 3), ('976124', 6), ('97674223', 8)]\n"
    },
    {
     "output_type": "execute_result",
     "data": {
      "text/plain": "True"
     },
     "metadata": {},
     "execution_count": 16
    }
   ],
   "source": [
    "solution([\"97674223\", \"976124\", \"118\"])"
   ]
  },
  {
   "cell_type": "code",
   "execution_count": 17,
   "metadata": {},
   "outputs": [
    {
     "output_type": "stream",
     "name": "stdout",
     "text": "[('119', 3), ('97674223', 8), ('1195524421', 10)]\n"
    },
    {
     "output_type": "execute_result",
     "data": {
      "text/plain": "False"
     },
     "metadata": {},
     "execution_count": 17
    }
   ],
   "source": [
    "solution ([\"119\", \"97674223\", \"1195524421\"])"
   ]
  },
  {
   "cell_type": "markdown",
   "metadata": {},
   "source": [
    "## Submitted Solution\n",
    "\n",
    "dictionary 선언과 동시에 sorting 한 부분만 빼면, 직관적으로 이해 쉬운 코드..\n",
    "\n",
    "다만 2중 for-loop 을 쓰기 때문에, 시간에 대한 걱정이 항상 발생함.."
   ]
  },
  {
   "cell_type": "code",
   "execution_count": 2,
   "metadata": {},
   "outputs": [],
   "source": [
    "def solution(phone_book) :\n",
    "    \n",
    "    # sorted_pb = sorted (phone_book)\n",
    "    sorted_pb = sorted(dict([ (phone, len(phone)) for phone in phone_book ]).items(), key=(lambda x : x[1]))\n",
    "    # print (sorted_pb)\n",
    "\n",
    "    for idx, iphone in enumerate (sorted_pb) :\n",
    "        # print (idx, iphone[0], iphone[1])\n",
    "        for jdx, jphone in enumerate (sorted_pb[idx+1:]) :\n",
    "            # print (jphone[0])\n",
    "            if jphone[0][:iphone[1]] == iphone[0] : \n",
    "                # print (jphone[0][:iphone[1]], iphone[0])\n",
    "                return False\n",
    "    return True\n"
   ]
  },
  {
   "cell_type": "code",
   "execution_count": 4,
   "metadata": {},
   "outputs": [
    {
     "output_type": "execute_result",
     "data": {
      "text/plain": "False"
     },
     "metadata": {},
     "execution_count": 4
    }
   ],
   "source": [
    "solution ([\"119\", \"97674223\", \"1195524421\"])"
   ]
  },
  {
   "cell_type": "markdown",
   "metadata": {},
   "source": [
    "## Short Codings\n"
   ]
  },
  {
   "cell_type": "markdown",
   "metadata": {},
   "source": [
    "## 01. `zip()` - `startswith()`\n",
    "\n",
    "Python의 장점을 살린 코드인 듯\n",
    "\n",
    "_다만 test case 바뀐 이후로 일부 case에서 안먹힌다고 함_\n",
    "\n",
    "_그리고 내 PC에서 그런지 모르겠지만, string-list에 `sorted`를 단순히 적용했을때 문자열 길이대로 정렬이 되지는 않는다_\n"
   ]
  },
  {
   "cell_type": "code",
   "execution_count": 6,
   "metadata": {},
   "outputs": [],
   "source": [
    "def solution(phoneBook):\n",
    "    phoneBook = sorted(phoneBook)\n",
    "\n",
    "    print(phoneBook)\n",
    "\n",
    "    for p1, p2 in zip(phoneBook, phoneBook[1:]):\n",
    "        if p2.startswith(p1):\n",
    "            return False\n",
    "    return True\n"
   ]
  },
  {
   "cell_type": "code",
   "execution_count": 7,
   "metadata": {},
   "outputs": [
    {
     "output_type": "stream",
     "name": "stdout",
     "text": "['119', '1195524421', '97674223']\n"
    },
    {
     "output_type": "execute_result",
     "data": {
      "text/plain": "False"
     },
     "metadata": {},
     "execution_count": 7
    }
   ],
   "source": [
    "solution ([\"119\", \"1195524421\", \"97674223\"])"
   ]
  },
  {
   "cell_type": "markdown",
   "metadata": {},
   "source": [
    "## 02. hash 개념 활용\n",
    "\n",
    "이게 원래 출제 의도에 맞는 정석 풀이라고는 하는데..\n",
    "\n",
    "C계열에선 맞는지 모르겠지만, Python에서 굳이 Hash 써야하는지 잘 모르겠음\n",
    "\n",
    "~~_Hash래서 난 일부러 dict썼는데.._~~"
   ]
  },
  {
   "cell_type": "code",
   "execution_count": 12,
   "metadata": {},
   "outputs": [],
   "source": [
    "def solution(phone_book):\n",
    "    answer = True\n",
    "    hash_map = {}\n",
    "    for phone_number in phone_book:\n",
    "        hash_map[phone_number] = 1\n",
    "    for phone_number in phone_book:\n",
    "        temp = \"\"\n",
    "        for number in phone_number:\n",
    "            temp += number\n",
    "            if temp in hash_map and temp != phone_number:\n",
    "                answer = False\n",
    "        print (temp)\n",
    "    print (hash_map)\n",
    "    return answer\n"
   ]
  },
  {
   "cell_type": "code",
   "execution_count": 13,
   "metadata": {},
   "outputs": [
    {
     "output_type": "stream",
     "name": "stdout",
     "text": "119\n1195524421\n97674223\n{'119': 1, '1195524421': 1, '97674223': 1}\n"
    },
    {
     "output_type": "execute_result",
     "data": {
      "text/plain": "False"
     },
     "metadata": {},
     "execution_count": 13
    }
   ],
   "source": [
    "solution ([\"119\", \"1195524421\", \"97674223\"])"
   ]
  },
  {
   "cell_type": "markdown",
   "metadata": {},
   "source": [
    "## 03. `sort(key=)`\n",
    "\n",
    "굳이 dict로 하지 않아도, sort 함수 안에 key를 써서 빠르게 정렬 가능.."
   ]
  },
  {
   "cell_type": "code",
   "execution_count": 14,
   "metadata": {},
   "outputs": [],
   "source": [
    "def solution(phoneBook):\n",
    "    phoneBook.sort(key=lambda x: len(x))\n",
    "    print (phoneBook)\n",
    "\n",
    "    for i in range(len(phoneBook) - 1):\n",
    "        for j in range(i + 1, len(phoneBook)):\n",
    "            if phoneBook[j].startswith(phoneBook[i]):\n",
    "                return False\n",
    "    return True\n"
   ]
  },
  {
   "cell_type": "code",
   "execution_count": 15,
   "metadata": {},
   "outputs": [
    {
     "output_type": "stream",
     "name": "stdout",
     "text": "['119', '97674223', '1195524421']\n"
    },
    {
     "output_type": "execute_result",
     "data": {
      "text/plain": "False"
     },
     "metadata": {},
     "execution_count": 15
    }
   ],
   "source": [
    "solution ([\"119\", \"1195524421\", \"97674223\"])"
   ]
  },
  {
   "cell_type": "code",
   "execution_count": null,
   "metadata": {},
   "outputs": [],
   "source": []
  }
 ],
 "metadata": {
  "language_info": {
   "codemirror_mode": {
    "name": "ipython",
    "version": 3
   },
   "file_extension": ".py",
   "mimetype": "text/x-python",
   "name": "python",
   "nbconvert_exporter": "python",
   "pygments_lexer": "ipython3",
   "version": "3.7.6-final"
  },
  "orig_nbformat": 2,
  "kernelspec": {
   "name": "python3",
   "display_name": "Python 3"
  }
 },
 "nbformat": 4,
 "nbformat_minor": 2
}