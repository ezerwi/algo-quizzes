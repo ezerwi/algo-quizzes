{
 "cells": [
  {
   "cell_type": "markdown",
   "metadata": {},
   "source": [
    "mkdate : 2020/04/25/Sat\n",
    "\n",
    "# [프로그래머스 > 스택/큐 > Lv2. 다리를 지나는 트럭](https://programmers.co.kr/learn/courses/30/lessons/42583)"
   ]
  },
  {
   "cell_type": "code",
   "execution_count": 35,
   "metadata": {},
   "outputs": [
    {
     "output_type": "stream",
     "name": "stdout",
     "text": "[10] 11\n[10] 22\n[10] 33\n[10] 44\n44\n[7] 3\n[4] 6\n[4, 5] 7\n[5, 6] 10\n10\n[10] 101\n[10, 10] 102\n[10, 10, 10] 103\n[10, 10, 10, 10] 104\n[10, 10, 10, 10, 10] 105\n[10, 10, 10, 10, 10, 10] 106\n[10, 10, 10, 10, 10, 10, 10] 107\n[10, 10, 10, 10, 10, 10, 10, 10] 108\n[10, 10, 10, 10, 10, 10, 10, 10, 10] 109\n[10, 10, 10, 10, 10, 10, 10, 10, 10, 10] 110\n110\n"
    }
   ],
   "source": [
    "def solution(bridge_length, weight, truck_weights):\n",
    "    answer = bridge_length\n",
    "    on_list =[]\n",
    "\n",
    "    while True :\n",
    "        # 더이상 건너갈 트럭 없으면 break\n",
    "        if len(truck_weights) == 0 : break\n",
    "\n",
    "        # 제일 앞차 \n",
    "        # 다리 위 트럭 리스트에 추가\n",
    "        # 진출입 시간 추가 + 1\n",
    "        \n",
    "        now = truck_weights.pop(0)\n",
    "\n",
    "        on_list.append(now)\n",
    "        answer += 1\n",
    "        print(on_list, answer)\n",
    "\n",
    "\n",
    "        # 다리 위 트럭 무게 합 구해서\n",
    "        # 건너갈 수 없으면 앞차 빠질때까지 대기 후 진출입\n",
    "        # 건너간 차량 하나씩 리스트에서 pop\n",
    "        \n",
    "        if truck_weights and sum(on_list) + truck_weights[0] > weight : \n",
    "            answer += bridge_length\n",
    "            on_list.pop(0)\n",
    "\n",
    "\n",
    "    return answer\n",
    "\n",
    "print (solution (10, 10, [10,10,10,10]))\n",
    "print (solution (2, 10, [7, 4, 5, 6]))\n",
    "print (solution (100, 100, [10, 10, 10, 10, 10, 10, 10, 10, 10, 10]))\n"
   ]
  },
  {
   "cell_type": "code",
   "execution_count": 5,
   "metadata": {},
   "outputs": [
    {
     "output_type": "execute_result",
     "data": {
      "text/plain": "7"
     },
     "metadata": {},
     "execution_count": 5
    }
   ],
   "source": [
    "arr = [7,4,5,6]\n",
    "arr.pop(0)"
   ]
  }
 ],
 "metadata": {
  "language_info": {
   "codemirror_mode": {
    "name": "ipython",
    "version": 3
   },
   "file_extension": ".py",
   "mimetype": "text/x-python",
   "name": "python",
   "nbconvert_exporter": "python",
   "pygments_lexer": "ipython3",
   "version": "3.8.2-final"
  },
  "orig_nbformat": 2,
  "kernelspec": {
   "name": "python3",
   "display_name": "Python 3"
  }
 },
 "nbformat": 4,
 "nbformat_minor": 2
}