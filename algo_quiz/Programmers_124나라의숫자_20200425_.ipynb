{
 "cells": [
  {
   "cell_type": "markdown",
   "metadata": {},
   "source": [
    "mkdate : 2020/04/25/Sat\n",
    "\n",
    "# [프로그래머스 > 연습문제 > 124 나라의 숫자](https://programmers.co.kr/learn/courses/30/lessons/12899)"
   ]
  },
  {
   "cell_type": "code",
   "execution_count": 6,
   "metadata": {},
   "outputs": [
    {
     "output_type": "stream",
     "name": "stdout",
     "text": "(1, 1)\n(0, 1)\n4 ['1', '1']\n(2, 1)\n(0, 2)\n7 ['2', '1']\n(3, 0)\n(1, 0)\n(0, 1)\n9 ['1', '4', '4']\n(3, 1)\n(1, 0)\n(0, 1)\n10 ['1', '4', '1']\n(4, 0)\n(1, 1)\n(0, 1)\n12 ['1', '1', '4']\n(4, 2)\n(1, 1)\n(0, 1)\n14 ['1', '1', '2']\n(11, 2)\n(3, 2)\n(1, 0)\n(0, 1)\n35 ['1', '4', '2', '2']\n"
    }
   ],
   "source": [
    "def solution(n):\n",
    "    answer = []\n",
    "    \n",
    "    x = divmod(n, 3)\n",
    "    \n",
    "    while True :\n",
    "        print (x)\n",
    "        if x[0] < 4 : \n",
    "            if x[1] == 0 :\n",
    "                answer.insert(0, \"4\")\n",
    "            else : answer.insert(0, str(x[1]))\n",
    "\n",
    "        x = divmod (x[0], 3)        \n",
    "\n",
    "    return answer\n",
    "\n",
    "print (\"4\", solution(4))\n",
    "print (\"7\", solution(7))\n",
    "print (\"9\", solution(9))\n",
    "print (\"10\", solution(10))\n",
    "print (\"12\", solution(12))\n",
    "print (\"14\", solution(14))\n",
    "print (\"35\", solution(35))"
   ]
  },
  {
   "cell_type": "code",
   "execution_count": null,
   "metadata": {},
   "outputs": [],
   "source": []
  },
  {
   "cell_type": "code",
   "execution_count": 27,
   "metadata": {},
   "outputs": [
    {
     "output_type": "execute_result",
     "data": {
      "text/plain": "(4, 2)"
     },
     "metadata": {},
     "execution_count": 27
    }
   ],
   "source": [
    "divmod(14,3)"
   ]
  },
  {
   "cell_type": "code",
   "execution_count": 28,
   "metadata": {},
   "outputs": [
    {
     "output_type": "execute_result",
     "data": {
      "text/plain": "(1, 1)"
     },
     "metadata": {},
     "execution_count": 28
    }
   ],
   "source": [
    "divmod(4,3)"
   ]
  },
  {
   "cell_type": "code",
   "execution_count": 29,
   "metadata": {},
   "outputs": [
    {
     "output_type": "execute_result",
     "data": {
      "text/plain": "(0, 1)"
     },
     "metadata": {},
     "execution_count": 29
    }
   ],
   "source": [
    "divmod(1,3)"
   ]
  },
  {
   "cell_type": "code",
   "execution_count": 30,
   "metadata": {},
   "outputs": [
    {
     "output_type": "execute_result",
     "data": {
      "text/plain": "14"
     },
     "metadata": {},
     "execution_count": 30
    }
   ],
   "source": [
    "3**2*1 + 3**1*1 + 3**0*2"
   ]
  },
  {
   "cell_type": "code",
   "execution_count": null,
   "metadata": {},
   "outputs": [],
   "source": []
  }
 ],
 "metadata": {
  "language_info": {
   "codemirror_mode": {
    "name": "ipython",
    "version": 3
   },
   "file_extension": ".py",
   "mimetype": "text/x-python",
   "name": "python",
   "nbconvert_exporter": "python",
   "pygments_lexer": "ipython3",
   "version": "3.7.6-final"
  },
  "orig_nbformat": 2,
  "kernelspec": {
   "name": "python3",
   "display_name": "Python 3"
  }
 },
 "nbformat": 4,
 "nbformat_minor": 2
}