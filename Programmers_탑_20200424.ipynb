{
  "nbformat": 4,
  "nbformat_minor": 0,
  "metadata": {
    "colab": {
      "name": "Programmers_탑_20200424.ipynb",
      "provenance": [],
      "collapsed_sections": [],
      "authorship_tag": "ABX9TyNhcEnUzBN/6CEmXa5ZjCkF",
      "include_colab_link": true
    },
    "kernelspec": {
      "name": "python3",
      "display_name": "Python 3"
    }
  },
  "cells": [
    {
      "cell_type": "markdown",
      "metadata": {
        "id": "view-in-github",
        "colab_type": "text"
      },
      "source": [
        "<a href=\"https://colab.research.google.com/github/gitgitWi/algo-quizzes/blob/master/Programmers_%ED%83%91_20200424.ipynb\" target=\"_parent\"><img src=\"https://colab.research.google.com/assets/colab-badge.svg\" alt=\"Open In Colab\"/></a>"
      ]
    },
    {
      "cell_type": "markdown",
      "metadata": {
        "id": "W_IXkYZmptlF",
        "colab_type": "text"
      },
      "source": [
        "mkdate : 2020/04/24/Fri\n",
        "\n",
        "## [프로그래머스 >  스택/큐 > Lv2. 탑](https://programmers.co.kr/learn/courses/30/lessons/42588?language=python3)\n",
        "\n",
        "\n",
        "이게 스택이 맞나 싶은데,,  어쨌든 맞았다,,,    \n",
        "elif가 너무 많아서 정신없고 헷갈리는데...  \n",
        "\n",
        "*사람들 풀이를 보니 숏코딩 많긴 한데 대부분 double for loop 아니면 while + for라서 좋은 풀이인지는 모르겠다...*\n"
      ]
    },
    {
      "cell_type": "code",
      "metadata": {
        "id": "e8Tmzw3nqV0l",
        "colab_type": "code",
        "colab": {
          "base_uri": "https://localhost:8080/",
          "height": 286
        },
        "outputId": "1e9aeeff-51a3-45a7-89a7-99ed634a17a8"
      },
      "source": [
        "def solution(heights):\n",
        "    answer = []\n",
        "    high = 0\n",
        "\n",
        "    for idx, now in enumerate(heights) : \n",
        "        if idx == 0 : \n",
        "            answer.append(0)\n",
        "        elif now > heights[idx-1] and now >= heights[high-1]: \n",
        "            answer.append(0)\n",
        "            high = idx\n",
        "        elif now > heights[idx-1] and heights[high-1] > now : \n",
        "            answer.append(high)\n",
        "        elif now < heights[idx-1] : \n",
        "            high = idx\n",
        "            answer.append(high)\n",
        "        elif now == heights[high] :\n",
        "            answer.append(0)\n",
        "        print (now, heights[high-1])\n",
        "        print (answer)\n",
        "    \n",
        "    return answer\n",
        "\n",
        "solution([3,9,9,3,5,7,2])\n"
      ],
      "execution_count": 17,
      "outputs": [
        {
          "output_type": "stream",
          "text": [
            "3 2\n",
            "[0]\n",
            "9 3\n",
            "[0, 0]\n",
            "9 3\n",
            "[0, 0, 0]\n",
            "3 9\n",
            "[0, 0, 0, 3]\n",
            "5 9\n",
            "[0, 0, 0, 3, 3]\n",
            "7 9\n",
            "[0, 0, 0, 3, 3, 3]\n",
            "2 7\n",
            "[0, 0, 0, 3, 3, 3, 6]\n"
          ],
          "name": "stdout"
        },
        {
          "output_type": "execute_result",
          "data": {
            "text/plain": [
              "[0, 0, 0, 3, 3, 3, 6]"
            ]
          },
          "metadata": {
            "tags": []
          },
          "execution_count": 17
        }
      ]
    },
    {
      "cell_type": "code",
      "metadata": {
        "id": "BLwHn9Het1Gl",
        "colab_type": "code",
        "colab": {
          "base_uri": "https://localhost:8080/",
          "height": 286
        },
        "outputId": "db5665c5-cbb2-41d7-c279-0dacc1b8972b"
      },
      "source": [
        "solution([1,5,3,6,7,6,5])"
      ],
      "execution_count": 18,
      "outputs": [
        {
          "output_type": "stream",
          "text": [
            "1 5\n",
            "[0]\n",
            "5 1\n",
            "[0, 0]\n",
            "3 5\n",
            "[0, 0, 2]\n",
            "6 3\n",
            "[0, 0, 2, 0]\n",
            "7 6\n",
            "[0, 0, 2, 0, 0]\n",
            "6 7\n",
            "[0, 0, 2, 0, 0, 5]\n",
            "5 6\n",
            "[0, 0, 2, 0, 0, 5, 6]\n"
          ],
          "name": "stdout"
        },
        {
          "output_type": "execute_result",
          "data": {
            "text/plain": [
              "[0, 0, 2, 0, 0, 5, 6]"
            ]
          },
          "metadata": {
            "tags": []
          },
          "execution_count": 18
        }
      ]
    }
  ]
}