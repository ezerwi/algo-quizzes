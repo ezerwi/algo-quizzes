{
  "nbformat": 4,
  "nbformat_minor": 0,
  "metadata": {
    "colab": {
      "name": "20200420_VitaAlgo.ipynb",
      "provenance": [],
      "collapsed_sections": [],
      "authorship_tag": "ABX9TyMNICHhB0tMz8lB5+Ul4mDc",
      "include_colab_link": true
    },
    "kernelspec": {
      "name": "python3",
      "display_name": "Python 3"
    }
  },
  "cells": [
    {
      "cell_type": "markdown",
      "metadata": {
        "id": "view-in-github",
        "colab_type": "text"
      },
      "source": [
        "<a href=\"https://colab.research.google.com/github/gitgitWi/algo-quizzes/blob/master/20200420_VitaAlgo.ipynb\" target=\"_parent\"><img src=\"https://colab.research.google.com/assets/colab-badge.svg\" alt=\"Open In Colab\"/></a>"
      ]
    },
    {
      "cell_type": "markdown",
      "metadata": {
        "id": "4LzJHTAguF7j",
        "colab_type": "text"
      },
      "source": [
        "[위클리 비타알고 중급편](https://edu.goorm.io/lecture/18444/프리미엄-알고리즘-시즌3-위클리-비타알고-중급편)\n",
        "\n",
        "4월 3주차\n",
        "\n",
        "#  회문\n",
        "##  Lv3"
      ]
    },
    {
      "cell_type": "markdown",
      "metadata": {
        "id": "CggbcLkku8bB",
        "colab_type": "text"
      },
      "source": [
        "***1차 제출 ==  False!!***"
      ]
    },
    {
      "cell_type": "code",
      "metadata": {
        "id": "3KdGK2Uuu3y0",
        "colab_type": "code",
        "colab": {}
      },
      "source": [
        "word = [ i for i in input() ]\n",
        "\n",
        "for _ in range( int(input()) ) : \n",
        "\tcheck = 1\n",
        "\tnums = [int(i) for i in input().split()]\n",
        "\tif word[nums[0]-1] != word[nums[1]-1] : check = 0\n",
        "\telse :\n",
        "\t\tfor i in range ((nums[1]-nums[0]) // 2) :\n",
        "\t\t\tif word [nums[0] -1 + i] != word[nums[1]-1 - i] : \n",
        "\t\t\t\tcheck = 0\n",
        "\t\t\t\tbreak\n",
        "\tprint (check)"
      ],
      "execution_count": 0,
      "outputs": []
    },
    {
      "cell_type": "markdown",
      "metadata": {
        "id": "mh8_65GkwMlt",
        "colab_type": "text"
      },
      "source": [
        "***2차 답안 ==    정답***"
      ]
    },
    {
      "cell_type": "code",
      "metadata": {
        "id": "Wm8aFCosvAGN",
        "colab_type": "code",
        "colab": {}
      },
      "source": [
        "word = [ i for i in input() ]\n",
        "# print (word)\n",
        "\n",
        "for _ in range( int(input()) ) : \n",
        "\tcheck = 1\n",
        "\tnums = [int(i) for i in input().split()]\n",
        "\t# print (nums)\n",
        "\t# print (word[nums[0]-1], word[nums[1]-1])\n",
        "\tif word[nums[0]-1] != word[nums[1]-1] : check = 0\n",
        "\telse :\n",
        "\t\tfor i in range (1, ((nums[1]-nums[0]) // 2)+1) :\n",
        "\t\t\tif word [nums[0] -1 + i] != word[nums[1]-1 - i] : \n",
        "\t\t\t\tcheck = 0\n",
        "\t\t\t\tbreak\n",
        "\tprint (check)\n"
      ],
      "execution_count": 0,
      "outputs": []
    },
    {
      "cell_type": "markdown",
      "metadata": {
        "id": "Jdn9qOFY1Uoy",
        "colab_type": "text"
      },
      "source": [
        "# Ctrl + F\n",
        "## Lv3."
      ]
    },
    {
      "cell_type": "markdown",
      "metadata": {
        "id": "UW10z5BCD1hV",
        "colab_type": "text"
      },
      "source": [
        "***1차 제출 ==  RunTime ERROR!!***\n",
        "\n",
        "기냥 brute force  방식이 맞았던 걸까..."
      ]
    },
    {
      "cell_type": "code",
      "metadata": {
        "id": "RuDUnqNv1f2P",
        "colab_type": "code",
        "colab": {}
      },
      "source": [
        "line = [ i for i in input() ]\n",
        "search = [ j for j in input() ]\n",
        "m = len(search)\n",
        "front = search[0]\n",
        "idx = 0\n",
        "while 1 :\n",
        "\t\n",
        "\ttry : \n",
        "\t\ttmp = line.index(front)\n",
        "\texcept : \n",
        "\t\tbreak\n",
        "\t# print (idx+1)\n",
        "\tline = line[tmp:]\n",
        "\t# print (\"line : \", line)\n",
        "\tif len(line) < m : break\n",
        "\tcheck = True\n",
        "\tfor _ in range(m) :\n",
        "\t\tif line[_] != search[_] : \n",
        "\t\t\tcheck = False\n",
        "\t\t\tbreak\n",
        "\t\t\t\n",
        "\tidx += tmp + 1\n",
        "\tif check == True : \n",
        "\t\tprint(idx)\n",
        "\tline = line[1:]"
      ],
      "execution_count": 0,
      "outputs": []
    }
  ]
}