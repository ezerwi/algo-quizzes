{
  "nbformat": 4,
  "nbformat_minor": 0,
  "metadata": {
    "colab": {
      "name": "VitaAlgo_2020-4월-3주-01_회문.ipynb",
      "provenance": [],
      "collapsed_sections": [],
      "authorship_tag": "ABX9TyNLrAmF4FlwiBiM9l4O3H8j",
      "include_colab_link": true
    },
    "kernelspec": {
      "name": "python3",
      "display_name": "Python 3"
    }
  },
  "cells": [
    {
      "cell_type": "markdown",
      "metadata": {
        "id": "view-in-github",
        "colab_type": "text"
      },
      "source": [
        "<a href=\"https://colab.research.google.com/github/gitgitWi/algo-quizzes/blob/master/VitaAlgo_2020_4%EC%9B%94_3%EC%A3%BC_01_%ED%9A%8C%EB%AC%B8.ipynb\" target=\"_parent\"><img src=\"https://colab.research.google.com/assets/colab-badge.svg\" alt=\"Open In Colab\"/></a>"
      ]
    },
    {
      "cell_type": "markdown",
      "metadata": {
        "id": "4LzJHTAguF7j",
        "colab_type": "text"
      },
      "source": [
        "[위클리 비타알고 중급편](https://edu.goorm.io/lecture/18444/프리미엄-알고리즘-시즌3-위클리-비타알고-중급편)\n",
        "\n",
        "4월 3주차  01\n",
        "\n",
        "#  회문\n",
        "##  Lv3"
      ]
    },
    {
      "cell_type": "markdown",
      "metadata": {
        "id": "CggbcLkku8bB",
        "colab_type": "text"
      },
      "source": [
        "***1차 제출 ==  False!!***"
      ]
    },
    {
      "cell_type": "code",
      "metadata": {
        "id": "3KdGK2Uuu3y0",
        "colab_type": "code",
        "colab": {}
      },
      "source": [
        "word = [ i for i in input() ]\n",
        "\n",
        "for _ in range( int(input()) ) : \n",
        "\tcheck = 1\n",
        "\tnums = [int(i) for i in input().split()]\n",
        "\tif word[nums[0]-1] != word[nums[1]-1] : check = 0\n",
        "\telse :\n",
        "\t\tfor i in range ((nums[1]-nums[0]) // 2) :\n",
        "\t\t\tif word [nums[0] -1 + i] != word[nums[1]-1 - i] : \n",
        "\t\t\t\tcheck = 0\n",
        "\t\t\t\tbreak\n",
        "\tprint (check)"
      ],
      "execution_count": 0,
      "outputs": []
    },
    {
      "cell_type": "markdown",
      "metadata": {
        "id": "mh8_65GkwMlt",
        "colab_type": "text"
      },
      "source": [
        "***2차 답안 ==    정답***"
      ]
    },
    {
      "cell_type": "code",
      "metadata": {
        "id": "Wm8aFCosvAGN",
        "colab_type": "code",
        "colab": {}
      },
      "source": [
        "word = [ i for i in input() ]\n",
        "# print (word)\n",
        "\n",
        "for _ in range( int(input()) ) : \n",
        "\tcheck = 1\n",
        "\tnums = [int(i) for i in input().split()]\n",
        "\t# print (nums)\n",
        "\t# print (word[nums[0]-1], word[nums[1]-1])\n",
        "\tif word[nums[0]-1] != word[nums[1]-1] : check = 0\n",
        "\telse :\n",
        "\t\tfor i in range (1, ((nums[1]-nums[0]) // 2)+1) :\n",
        "\t\t\tif word [nums[0] -1 + i] != word[nums[1]-1 - i] : \n",
        "\t\t\t\tcheck = 0\n",
        "\t\t\t\tbreak\n",
        "\tprint (check)\n"
      ],
      "execution_count": 0,
      "outputs": []
    }
  ]
}