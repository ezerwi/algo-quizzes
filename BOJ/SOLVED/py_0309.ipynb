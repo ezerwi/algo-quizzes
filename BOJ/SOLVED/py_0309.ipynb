{
  "nbformat": 4,
  "nbformat_minor": 0,
  "metadata": {
    "colab": {
      "name": "py_0309.ipynb",
      "provenance": [],
      "collapsed_sections": [],
      "authorship_tag": "ABX9TyPjwoK36iphbBmWYEFrmw0W",
      "include_colab_link": true
    },
    "kernelspec": {
      "name": "python3",
      "display_name": "Python 3"
    }
  },
  "cells": [
    {
      "cell_type": "markdown",
      "metadata": {
        "id": "view-in-github",
        "colab_type": "text"
      },
      "source": [
        "<a href=\"https://colab.research.google.com/github/ezerwi/algo-quizzes/blob/master/py_0309.ipynb\" target=\"_parent\"><img src=\"https://colab.research.google.com/assets/colab-badge.svg\" alt=\"Open In Colab\"/></a>"
      ]
    },
    {
      "cell_type": "markdown",
      "metadata": {
        "id": "dC9JZya1qGxl",
        "colab_type": "text"
      },
      "source": [
        "# March/09/2020 Exercises\n",
        "\n",
        "python 기초 문법 연습.."
      ]
    },
    {
      "cell_type": "code",
      "metadata": {
        "id": "imr-hAXgKRu8",
        "colab_type": "code",
        "outputId": "17b362b3-af95-4f7f-f76c-34d88fce2868",
        "colab": {
          "base_uri": "https://localhost:8080/",
          "height": 54
        }
      },
      "source": [
        "squares = list(map(lambda x: x**2, range(10)))\n",
        "print(squares)\n",
        "\n",
        "mp = map(lambda x: x**2, range(10))\n",
        "for i in mp :\n",
        "  print (i, end='\\t')"
      ],
      "execution_count": 0,
      "outputs": [
        {
          "output_type": "stream",
          "text": [
            "[0, 1, 4, 9, 16, 25, 36, 49, 64, 81]\n",
            "0\t1\t4\t9\t16\t25\t36\t49\t64\t81\t"
          ],
          "name": "stdout"
        }
      ]
    },
    {
      "cell_type": "code",
      "metadata": {
        "id": "0wHhQmKKOuZD",
        "colab_type": "code",
        "outputId": "1fbc12e8-b036-4ac6-f410-9e4983698a84",
        "colab": {
          "base_uri": "https://localhost:8080/",
          "height": 35
        }
      },
      "source": [
        " vec = [[1,2,3], [4,5,6], [7,8,9]]\n",
        "x = [num for elem in vec for num in elem] \n",
        "print (x)"
      ],
      "execution_count": 0,
      "outputs": [
        {
          "output_type": "stream",
          "text": [
            "[1, 2, 3, 4, 5, 6, 7, 8, 9]\n"
          ],
          "name": "stdout"
        }
      ]
    },
    {
      "cell_type": "code",
      "metadata": {
        "id": "zaQfujUjQDXU",
        "colab_type": "code",
        "outputId": "1fbc467e-064f-4fd1-a923-348d3244b9b0",
        "colab": {
          "base_uri": "https://localhost:8080/",
          "height": 54
        }
      },
      "source": [
        "matrix = [\n",
        "     [1, 2, 3, 4],\n",
        "     [5, 6, 7, 8],\n",
        "     [9, 10, 11, 12],\n",
        " ]\n",
        "\n",
        "x = [num for elem in matrix for num in elem]\n",
        "print (x)\n",
        "\n",
        "y = [[row[i] for row in matrix] for i in range(len(matrix[0]))]\n",
        "print(y)"
      ],
      "execution_count": 0,
      "outputs": [
        {
          "output_type": "stream",
          "text": [
            "[1, 2, 3, 4, 5, 6, 7, 8, 9, 10, 11, 12]\n",
            "[[1, 5, 9], [2, 6, 10], [3, 7, 11], [4, 8, 12]]\n"
          ],
          "name": "stdout"
        }
      ]
    },
    {
      "cell_type": "code",
      "metadata": {
        "id": "YgruHvY7QgBv",
        "colab_type": "code",
        "outputId": "f839e462-2f26-49d6-a4ea-995383c606d3",
        "colab": {
          "base_uri": "https://localhost:8080/",
          "height": 73
        }
      },
      "source": [
        "x = [1, 2, 3]\n",
        "y = [4, 5, 6]\n",
        "z1 = list(zip (x, y))\n",
        "x2, y2 = list(zip(*zip(x,y)))\n",
        "print (z1)\n",
        "print (x2)\n",
        "print (y2)"
      ],
      "execution_count": 0,
      "outputs": [
        {
          "output_type": "stream",
          "text": [
            "[(1, 4), (2, 5), (3, 6)]\n",
            "(1, 2, 3)\n",
            "(4, 5, 6)\n"
          ],
          "name": "stdout"
        }
      ]
    },
    {
      "cell_type": "code",
      "metadata": {
        "id": "dokQh3X-Sbuc",
        "colab_type": "code",
        "outputId": "c6c79533-7bea-4824-8d7c-6466d181c88f",
        "colab": {
          "base_uri": "https://localhost:8080/",
          "height": 92
        }
      },
      "source": [
        "x = [1, 2, 3,4,5,6,]\n",
        "\n",
        "i = 7\n",
        "print(i not in x)\n",
        "print ( x.count(4) )\n",
        "\n",
        "print ( x.index(4, 2, 5))\n",
        "print ( list(range(10, 300, 20)) )"
      ],
      "execution_count": 0,
      "outputs": [
        {
          "output_type": "stream",
          "text": [
            "True\n",
            "1\n",
            "3\n",
            "[10, 30, 50, 70, 90, 110, 130, 150, 170, 190, 210, 230, 250, 270, 290]\n"
          ],
          "name": "stdout"
        }
      ]
    },
    {
      "cell_type": "markdown",
      "metadata": {
        "id": "8_7Jm7UOWcQl",
        "colab_type": "text"
      },
      "source": [
        "## 오늘의 문제\n",
        "\n",
        "\n",
        "BOJ/2562. 최댓값\n",
        "\n",
        "https://www.acmicpc.net/problem/2562\n"
      ]
    },
    {
      "cell_type": "code",
      "metadata": {
        "id": "ptxF01JyrY_6",
        "colab_type": "code",
        "colab": {
          "base_uri": "https://localhost:8080/",
          "height": 213
        },
        "outputId": "1dd292f4-e725-4e60-c187-bfceeb80491c"
      },
      "source": [
        "nums = []\n",
        "for i in range(9) :\n",
        "  nums.append(int(input()))\n",
        "print( max(nums))\n",
        "print ( nums.index(max(nums))+1 )"
      ],
      "execution_count": 6,
      "outputs": [
        {
          "output_type": "stream",
          "text": [
            "3\n",
            "29\n",
            "38\n",
            "12\n",
            "57\n",
            "74\n",
            "40\n",
            "85\n",
            "61\n",
            "85\n",
            "8\n"
          ],
          "name": "stdout"
        }
      ]
    },
    {
      "cell_type": "markdown",
      "metadata": {
        "id": "t7oBGKNKtsTL",
        "colab_type": "text"
      },
      "source": [
        "다른 풀이"
      ]
    },
    {
      "cell_type": "code",
      "metadata": {
        "id": "Gsqx2D14tc1G",
        "colab_type": "code",
        "colab": {
          "base_uri": "https://localhost:8080/",
          "height": 321
        },
        "outputId": "b2779eb8-b53f-4229-cf1b-31e0a2ead72b"
      },
      "source": [
        "nums = [3, 29, 38, 12, 57, 74, 40, 85, 61]\n",
        "# for i in range(9) :\n",
        "#   nums.append( int( input() ) )\n",
        "\n",
        "def sorting(arr) :\n",
        "  if len(arr) <= 1 : return arr\n",
        "  pivot = arr[0]\n",
        "  # print(\"pivot__\", pivot)\n",
        "  left = [i for i in arr[1:] if i < pivot]\n",
        "  # print(left)\n",
        "  right = [i for i in arr[1:] if i > pivot]\n",
        "  # print(right)\n",
        "  # result = []\n",
        "  # if(left != None) : result += sorting(left)\n",
        "  # result += [pivot]\n",
        "  # if(right != None) : result += sorting(right)\n",
        "  return sorting(left) + [pivot] + sorting(right)\n",
        "\n",
        "arr = sorting(nums)\n",
        "print (arr[len(arr)-1])\n",
        "print ( nums.index(arr[len(arr)-1])+1 )"
      ],
      "execution_count": 27,
      "outputs": [
        {
          "output_type": "stream",
          "text": [
            "pivot__ 3\n",
            "[]\n",
            "[29, 38, 12, 57, 74, 40, 85, 61]\n",
            "pivot__ 29\n",
            "[12]\n",
            "[38, 57, 74, 40, 85, 61]\n",
            "pivot__ 38\n",
            "[]\n",
            "[57, 74, 40, 85, 61]\n",
            "pivot__ 57\n",
            "[40]\n",
            "[74, 85, 61]\n",
            "pivot__ 74\n",
            "[61]\n",
            "[85]\n",
            "85\n",
            "8\n"
          ],
          "name": "stdout"
        }
      ]
    },
    {
      "cell_type": "code",
      "metadata": {
        "id": "NqndJo6M-Ao-",
        "colab_type": "code",
        "colab": {}
      },
      "source": [
        ""
      ],
      "execution_count": 0,
      "outputs": []
    },
    {
      "cell_type": "code",
      "metadata": {
        "id": "dEWPEDob6i-Y",
        "colab_type": "code",
        "colab": {}
      },
      "source": [
        ""
      ],
      "execution_count": 0,
      "outputs": []
    },
    {
      "cell_type": "code",
      "metadata": {
        "id": "tTUMrhzmr79c",
        "colab_type": "code",
        "colab": {}
      },
      "source": [
        ""
      ],
      "execution_count": 0,
      "outputs": []
    }
  ]
}