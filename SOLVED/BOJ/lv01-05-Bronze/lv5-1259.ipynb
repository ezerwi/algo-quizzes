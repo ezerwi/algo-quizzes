{
 "metadata": {
  "language_info": {
   "codemirror_mode": {
    "name": "ipython",
    "version": 3
   },
   "file_extension": ".py",
   "mimetype": "text/x-python",
   "name": "python",
   "nbconvert_exporter": "python",
   "pygments_lexer": "ipython3",
   "version": "3.8.5-final"
  },
  "orig_nbformat": 2,
  "kernelspec": {
   "name": "python_defaultSpec_1599879654622",
   "display_name": "Python 3.8.5 64-bit ('py38': conda)"
  }
 },
 "nbformat": 4,
 "nbformat_minor": 2,
 "cells": [
  {
   "cell_type": "markdown",
   "metadata": {},
   "source": [
    "# Bronze1. 펠린드롬수\n",
    "\n",
    "https://www.acmicpc.net/problem/1259"
   ]
  },
  {
   "cell_type": "code",
   "execution_count": 1,
   "metadata": {
    "tags": []
   },
   "outputs": [
    {
     "output_type": "stream",
     "name": "stdout",
     "text": "yes\n"
    }
   ],
   "source": [
    "def isPal(line):\n",
    "    size = len(line)\n",
    "    for i in range(size//2):\n",
    "        if line[i] != line[size-i-1] : \n",
    "            return 'no'\n",
    "    return 'yes'\n",
    "\n",
    "while True:\n",
    "    line = list(input())\n",
    "    if line == ['0'] :break\n",
    "    print (isPal(line))\n"
   ]
  }
 ]
}