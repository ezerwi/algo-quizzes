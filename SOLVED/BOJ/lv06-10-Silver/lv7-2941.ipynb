{
 "metadata": {
  "language_info": {
   "codemirror_mode": {
    "name": "ipython",
    "version": 3
   },
   "file_extension": ".py",
   "mimetype": "text/x-python",
   "name": "python",
   "nbconvert_exporter": "python",
   "pygments_lexer": "ipython3",
   "version": "3.8.5-final"
  },
  "orig_nbformat": 2,
  "kernelspec": {
   "name": "python_defaultSpec_1599879572266",
   "display_name": "Python 3.8.5 64-bit"
  }
 },
 "nbformat": 4,
 "nbformat_minor": 2,
 "cells": [
  {
   "cell_type": "markdown",
   "metadata": {},
   "source": [
    "# Silver5. 크로아티아 알파벳\n",
    "\n",
    "- https://www.acmicpc.net/problem/2941"
   ]
  },
  {
   "cell_type": "code",
   "execution_count": 22,
   "metadata": {
    "tags": []
   },
   "outputs": [
    {
     "output_type": "stream",
     "name": "stdout",
     "text": "nj\n2\n"
    }
   ],
   "source": [
    "word = input()\n",
    "croAlphas= ['c=', 'c-', 'dz=', 'd-', 'lj', 'nj', 's=', 'z=']\n",
    "cnt = 0\n",
    "import re\n",
    "for c in croAlphas:\n",
    "    p = re.compile(c)\n",
    "    tmp = p.findall(word)\n",
    "    cnt += len(tmp)\n",
    "    word = word.replace(c, ' ')\n",
    "\n",
    "word = word.replace(' ', '')\n",
    "print (word)\n",
    "cnt += len(word)\n",
    "print(cnt)"
   ]
  }
 ]
}