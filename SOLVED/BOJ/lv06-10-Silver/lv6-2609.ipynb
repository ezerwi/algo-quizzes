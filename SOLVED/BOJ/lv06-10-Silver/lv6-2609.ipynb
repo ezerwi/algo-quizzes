{
 "metadata": {
  "language_info": {
   "codemirror_mode": {
    "name": "ipython",
    "version": 3
   },
   "file_extension": ".py",
   "mimetype": "text/x-python",
   "name": "python",
   "nbconvert_exporter": "python",
   "pygments_lexer": "ipython3",
   "version": "3.8.5-final"
  },
  "orig_nbformat": 2,
  "kernelspec": {
   "name": "python_defaultSpec_1599875197757",
   "display_name": "Python 3.8.5 64-bit"
  }
 },
 "nbformat": 4,
 "nbformat_minor": 2,
 "cells": [
  {
   "cell_type": "markdown",
   "metadata": {},
   "source": [
    "# Bronze5. 최대공약수와 최소공배수\n",
    "\n",
    "https://www.acmicpc.net/problem/2609\n",
    "\n",
    "***유클리드 호제법*** 외우자!\n",
    "\n",
    "- 증명 공부하자\n",
    "\n",
    "- ref) https://velog.io/@tjdud0123/최대공약수-최소공배수-구하기\n"
   ]
  },
  {
   "cell_type": "code",
   "execution_count": 1,
   "metadata": {
    "tags": []
   },
   "outputs": [
    {
     "output_type": "stream",
     "name": "stdout",
     "text": "8\n24\n"
    }
   ],
   "source": [
    "a, b = map(int, input().split())\n",
    "if b > a: a, b = b,a\n",
    "\n",
    "def gcd(a, b):\n",
    "    return a if b==0 else gcd(b, a%b)\n",
    "\n",
    "# def lcm(a,b):\n",
    "#     return a*b//gcd(a,b)\n",
    "\n",
    "x = gcd(a,b)\n",
    "y = a*b//x\n",
    "\n",
    "print(*[x, y], sep='\\n')"
   ]
  }
 ]
}