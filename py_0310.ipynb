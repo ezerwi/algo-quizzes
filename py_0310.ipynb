{
  "nbformat": 4,
  "nbformat_minor": 0,
  "metadata": {
    "colab": {
      "name": "py_0310.ipynb",
      "provenance": [],
      "collapsed_sections": [],
      "authorship_tag": "ABX9TyMnIk3dyO58XE2Dml6F/NxU",
      "include_colab_link": true
    },
    "kernelspec": {
      "name": "python3",
      "display_name": "Python 3"
    }
  },
  "cells": [
    {
      "cell_type": "markdown",
      "metadata": {
        "id": "view-in-github",
        "colab_type": "text"
      },
      "source": [
        "<a href=\"https://colab.research.google.com/github/ezerwi/algo-quizzes/blob/master/py_0310.ipynb\" target=\"_parent\"><img src=\"https://colab.research.google.com/assets/colab-badge.svg\" alt=\"Open In Colab\"/></a>"
      ]
    },
    {
      "cell_type": "code",
      "metadata": {
        "id": "ZpuSJckphwOF",
        "colab_type": "code",
        "colab": {
          "base_uri": "https://localhost:8080/",
          "height": 54
        },
        "outputId": "ae108a95-d5be-4db0-db87-a8737c313c78"
      },
      "source": [
        "from google.colab import drive\n",
        "drive.mount('/content/drive')"
      ],
      "execution_count": 6,
      "outputs": [
        {
          "output_type": "stream",
          "text": [
            "Drive already mounted at /content/drive; to attempt to forcibly remount, call drive.mount(\"/content/drive\", force_remount=True).\n"
          ],
          "name": "stdout"
        }
      ]
    },
    {
      "cell_type": "markdown",
      "metadata": {
        "id": "hfnEwkujiHNI",
        "colab_type": "text"
      },
      "source": [
        "# March/10/2020 Exercises¶\n"
      ]
    },
    {
      "cell_type": "code",
      "metadata": {
        "id": "ktJSuQB_e1cQ",
        "colab_type": "code",
        "colab": {}
      },
      "source": [
        "import sys\n",
        "input = sys.stdin.readline\n",
        "\n",
        "n = int(input())\n",
        "arr = []\n",
        "for i in range(n) :\n",
        "    order = input().split()\n",
        "    # print(order)\n",
        "    if order[0] == 'push' :\n",
        "        arr.append(order[1])\n",
        "    elif order[0] == 'pop' :\n",
        "        if not arr : print(-1)\n",
        "        else :\n",
        "            print(arr[len(arr)-1])\n",
        "            arr.pop()\n",
        "    elif order[0] == 'size' :\n",
        "        print(len(arr))\n",
        "    elif order[0] == 'empty' :\n",
        "        if not arr : \n",
        "            print(1)\n",
        "        else : print(0)\n",
        "    elif order[0] == 'top' :\n",
        "        if not arr :\n",
        "            print(-1)\n",
        "        else : print(arr[len(arr)-1])"
      ],
      "execution_count": 0,
      "outputs": []
    },
    {
      "cell_type": "code",
      "metadata": {
        "id": "d5emdt36f1HJ",
        "colab_type": "code",
        "colab": {}
      },
      "source": [
        ""
      ],
      "execution_count": 0,
      "outputs": []
    }
  ]
}