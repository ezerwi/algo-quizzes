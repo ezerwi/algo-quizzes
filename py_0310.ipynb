{
  "nbformat": 4,
  "nbformat_minor": 0,
  "metadata": {
    "colab": {
      "name": "py_0310.ipynb",
      "provenance": [],
      "collapsed_sections": [],
      "mount_file_id": "1dMS1f0T7_qkFwaah1HmwGzFQ8v9nf0tR",
      "authorship_tag": "ABX9TyNjqPe/B7lT2E/UEeq/owDa",
      "include_colab_link": true
    },
    "kernelspec": {
      "name": "python3",
      "display_name": "Python 3"
    }
  },
  "cells": [
    {
      "cell_type": "markdown",
      "metadata": {
        "id": "view-in-github",
        "colab_type": "text"
      },
      "source": [
        "<a href=\"https://colab.research.google.com/github/ezerwi/algo-quizzes/blob/master/py_0310.ipynb\" target=\"_parent\"><img src=\"https://colab.research.google.com/assets/colab-badge.svg\" alt=\"Open In Colab\"/></a>"
      ]
    },
    {
      "cell_type": "markdown",
      "metadata": {
        "id": "5grcum24S7C3",
        "colab_type": "text"
      },
      "source": [
        "# March/10/2020 Exercises\n",
        "\n",
        "## BOJ/10828. 스택"
      ]
    },
    {
      "cell_type": "code",
      "metadata": {
        "id": "uSZ5fgvBTzTW",
        "colab_type": "code",
        "outputId": "e54bbc64-5e69-419b-dbf2-2f921a2c7307",
        "colab": {
          "base_uri": "https://localhost:8080/",
          "height": 252
        }
      },
      "source": [
        "# import sys\n",
        "# input = sys.stdin.readline\n",
        "\n",
        "n = int(input())\n",
        "arr = []\n",
        "for i in range(n) :\n",
        "    order = input().split()\n",
        "    # print(order)\n",
        "    if order[0] == 'push' :\n",
        "        arr.append(order[1])\n",
        "    elif order[0] == 'pop' :\n",
        "        if not arr : print(-1)\n",
        "        else :\n",
        "            print(arr[len(arr)-1])\n",
        "            arr.pop()\n",
        "    elif order[0] == 'size' :\n",
        "        print(len(arr))\n",
        "    elif order[0] == 'empty' :\n",
        "        if not arr : \n",
        "            print(1)\n",
        "        else : print(0)\n",
        "    elif order[0] == 'top' :\n",
        "        if not arr :\n",
        "            print(-1)\n",
        "        else : print(arr[len(arr)-1])\n"
      ],
      "execution_count": 39,
      "outputs": [
        {
          "output_type": "error",
          "ename": "ValueError",
          "evalue": "ignored",
          "traceback": [
            "\u001b[0;31m---------------------------------------------------------------------------\u001b[0m",
            "\u001b[0;31mValueError\u001b[0m                                Traceback (most recent call last)",
            "\u001b[0;32m<ipython-input-39-81c72c2bfdf1>\u001b[0m in \u001b[0;36m<module>\u001b[0;34m()\u001b[0m\n\u001b[1;32m      1\u001b[0m \u001b[0;34m\u001b[0m\u001b[0m\n\u001b[0;32m----> 2\u001b[0;31m \u001b[0mn\u001b[0m \u001b[0;34m=\u001b[0m \u001b[0mint\u001b[0m\u001b[0;34m(\u001b[0m\u001b[0minput\u001b[0m\u001b[0;34m(\u001b[0m\u001b[0;34m)\u001b[0m\u001b[0;34m)\u001b[0m\u001b[0;34m\u001b[0m\u001b[0;34m\u001b[0m\u001b[0m\n\u001b[0m\u001b[1;32m      3\u001b[0m \u001b[0marr\u001b[0m \u001b[0;34m=\u001b[0m \u001b[0;34m[\u001b[0m\u001b[0;34m]\u001b[0m\u001b[0;34m\u001b[0m\u001b[0;34m\u001b[0m\u001b[0m\n\u001b[1;32m      4\u001b[0m \u001b[0;32mfor\u001b[0m \u001b[0mi\u001b[0m \u001b[0;32min\u001b[0m \u001b[0mrange\u001b[0m\u001b[0;34m(\u001b[0m\u001b[0mn\u001b[0m\u001b[0;34m)\u001b[0m \u001b[0;34m:\u001b[0m\u001b[0;34m\u001b[0m\u001b[0;34m\u001b[0m\u001b[0m\n\u001b[1;32m      5\u001b[0m     \u001b[0morder\u001b[0m \u001b[0;34m=\u001b[0m \u001b[0minput\u001b[0m\u001b[0;34m(\u001b[0m\u001b[0;34m)\u001b[0m\u001b[0;34m.\u001b[0m\u001b[0msplit\u001b[0m\u001b[0;34m(\u001b[0m\u001b[0;34m)\u001b[0m\u001b[0;34m\u001b[0m\u001b[0;34m\u001b[0m\u001b[0m\n",
            "\u001b[0;31mValueError\u001b[0m: invalid literal for int() with base 10: ''"
          ]
        }
      ]
    },
    {
      "cell_type": "markdown",
      "metadata": {
        "id": "tAwXLrkxeUAk",
        "colab_type": "text"
      },
      "source": [
        "## Short Codings\n",
        "\n",
        "lambda 활용, 훨씬 간결한 코드.."
      ]
    },
    {
      "cell_type": "code",
      "metadata": {
        "id": "uRbQZ0T7dZ8C",
        "colab_type": "code",
        "colab": {
          "base_uri": "https://localhost:8080/",
          "height": 252
        },
        "outputId": "a8305e04-89cd-4232-8904-a6860f41193c"
      },
      "source": [
        "import sys\n",
        "s=[]\n",
        "for x in\"A\"*int(input()):\n",
        " a=sys.stdin.readline()[:-1]\n",
        " s.append(a[5:]) if a[:2]=='pu' else print({\n",
        "\t 'p':lambda:s.pop()if len(s)>0 else-1,\n",
        "\t 's':lambda:len(s),\n",
        "\t 'e':lambda:int(len(s)<1),\n",
        "\t 't':lambda:s[-1]if len(s)>0 else-1} [a[:1]] () )"
      ],
      "execution_count": 40,
      "outputs": [
        {
          "output_type": "error",
          "ename": "ValueError",
          "evalue": "ignored",
          "traceback": [
            "\u001b[0;31m---------------------------------------------------------------------------\u001b[0m",
            "\u001b[0;31mValueError\u001b[0m                                Traceback (most recent call last)",
            "\u001b[0;32m<ipython-input-40-9a1ee97c8969>\u001b[0m in \u001b[0;36m<module>\u001b[0;34m()\u001b[0m\n\u001b[1;32m      1\u001b[0m \u001b[0;32mimport\u001b[0m \u001b[0msys\u001b[0m\u001b[0;34m\u001b[0m\u001b[0;34m\u001b[0m\u001b[0m\n\u001b[1;32m      2\u001b[0m \u001b[0ms\u001b[0m\u001b[0;34m=\u001b[0m\u001b[0;34m[\u001b[0m\u001b[0;34m]\u001b[0m\u001b[0;34m\u001b[0m\u001b[0;34m\u001b[0m\u001b[0m\n\u001b[0;32m----> 3\u001b[0;31m \u001b[0;32mfor\u001b[0m \u001b[0mx\u001b[0m \u001b[0;32min\u001b[0m\u001b[0;34m\"A\"\u001b[0m\u001b[0;34m*\u001b[0m\u001b[0mint\u001b[0m\u001b[0;34m(\u001b[0m\u001b[0minput\u001b[0m\u001b[0;34m(\u001b[0m\u001b[0;34m)\u001b[0m\u001b[0;34m)\u001b[0m\u001b[0;34m:\u001b[0m\u001b[0;34m\u001b[0m\u001b[0;34m\u001b[0m\u001b[0m\n\u001b[0m\u001b[1;32m      4\u001b[0m  \u001b[0ma\u001b[0m\u001b[0;34m=\u001b[0m\u001b[0msys\u001b[0m\u001b[0;34m.\u001b[0m\u001b[0mstdin\u001b[0m\u001b[0;34m.\u001b[0m\u001b[0mreadline\u001b[0m\u001b[0;34m(\u001b[0m\u001b[0;34m)\u001b[0m\u001b[0;34m[\u001b[0m\u001b[0;34m:\u001b[0m\u001b[0;34m-\u001b[0m\u001b[0;36m1\u001b[0m\u001b[0;34m]\u001b[0m\u001b[0;34m\u001b[0m\u001b[0;34m\u001b[0m\u001b[0m\n\u001b[1;32m      5\u001b[0m  s.append(a[5:]) if a[:2]=='pu' else print({\n",
            "\u001b[0;31mValueError\u001b[0m: invalid literal for int() with base 10: ''"
          ]
        }
      ]
    },
    {
      "cell_type": "markdown",
      "metadata": {
        "id": "bjH2tRIUVyJw",
        "colab_type": "text"
      },
      "source": [
        "## BOJ/9093. 단어 뒤집기"
      ]
    },
    {
      "cell_type": "code",
      "metadata": {
        "id": "oJfxE_r1LSOv",
        "colab_type": "code",
        "colab": {}
      },
      "source": [
        "# 2\n",
        "# I am happy today\n",
        "# We want to win the first prize\n",
        "\n",
        "# import sys\n",
        "# input = sys.stdin.readline\n",
        "\n",
        "n = int(input())\n",
        "while True:\n",
        "    if n == 0 : break\n",
        "    out = str(input ()).split()\n",
        "    # print (out)\n",
        "    line =\"\"\n",
        "    for o in out :\n",
        "        for x in list(reversed(o)) :\n",
        "            line+=x\n",
        "        line +=\" \"\n",
        "    print(line)\n",
        "    n-=1\n",
        "  "
      ],
      "execution_count": 0,
      "outputs": []
    },
    {
      "cell_type": "markdown",
      "metadata": {
        "id": "hoRc2te5VL4S",
        "colab_type": "text"
      },
      "source": [
        "### Short Coding\n",
        "\n",
        "*lambda와 map을 잘 알아보고 써봐야겟다..*\n"
      ]
    },
    {
      "cell_type": "code",
      "metadata": {
        "id": "oLvhmdIiVSJ-",
        "colab_type": "code",
        "colab": {}
      },
      "source": [
        "import sys\n",
        "\n",
        "readline = sys.stdin.readline\n",
        "for _ in range(int(readline())):\n",
        "    print(*map(lambda x: x[::-1], readline().split()))"
      ],
      "execution_count": 0,
      "outputs": []
    },
    {
      "cell_type": "markdown",
      "metadata": {
        "id": "XRLf-OJgMTaF",
        "colab_type": "text"
      },
      "source": [
        "## BOJ/2577. 숫자의 개수"
      ]
    },
    {
      "cell_type": "code",
      "metadata": {
        "id": "kpQdrjogMLPX",
        "colab_type": "code",
        "colab": {}
      },
      "source": [
        "a=int(input())\n",
        "b=int(input())\n",
        "c=int(input())\n",
        "\n",
        "temp = a*b*c\n",
        "sum = [i for i in str(temp)]\n",
        "# print(sum)\n",
        "arr = list(set([i for i in sum]))\n",
        "# print(arr)\n",
        "res = [0 for i in range(10)]\n",
        "for i in sum :\n",
        "    for j in arr :\n",
        "        if i == j :\n",
        "            res[int(j)]+=1\n",
        "# print(res)\n",
        "for i in res :\n",
        "    print(i)"
      ],
      "execution_count": 0,
      "outputs": []
    },
    {
      "cell_type": "code",
      "metadata": {
        "id": "87lrtokYMrjX",
        "colab_type": "code",
        "colab": {}
      },
      "source": [
        "# a=int(input())\n",
        "# b=int(input())\n",
        "# c=int(input())\n",
        "\n",
        "temp = int(input())*int(input())*int(input())\n",
        "sum = [i for i in str(temp)]\n",
        "# print(sum)\n",
        "arr = list(set([i for i in sum]))\n",
        "# print(arr)\n",
        "res = [0 for i in range(10)]\n",
        "for i in sum :\n",
        "    for j in arr :\n",
        "        if i == j :\n",
        "            res[int(j)]+=1\n",
        "# print(res)\n",
        "for i in res :\n",
        "    print(i)"
      ],
      "execution_count": 0,
      "outputs": []
    },
    {
      "cell_type": "markdown",
      "metadata": {
        "id": "Lz-evI24NDCh",
        "colab_type": "text"
      },
      "source": [
        "## BOJ/3052. 나머지\n"
      ]
    },
    {
      "cell_type": "code",
      "metadata": {
        "id": "FJk0-WfhcxpT",
        "colab_type": "code",
        "colab": {
          "base_uri": "https://localhost:8080/",
          "height": 235
        },
        "outputId": "317187a6-3f7f-4037-fe2d-641dfe176d95"
      },
      "source": [
        "import sys\n",
        "readline = sys.stdin.readline\n",
        "\n",
        "arr = []\n",
        "for i in range(10) :\n",
        "\tarr.append( int(readline()) % 42 )\n",
        "print( len(set(arr)) )\n"
      ],
      "execution_count": 41,
      "outputs": [
        {
          "output_type": "error",
          "ename": "ValueError",
          "evalue": "ignored",
          "traceback": [
            "\u001b[0;31m---------------------------------------------------------------------------\u001b[0m",
            "\u001b[0;31mValueError\u001b[0m                                Traceback (most recent call last)",
            "\u001b[0;32m<ipython-input-41-ed1bcb742bf4>\u001b[0m in \u001b[0;36m<module>\u001b[0;34m()\u001b[0m\n\u001b[1;32m      4\u001b[0m \u001b[0marr\u001b[0m \u001b[0;34m=\u001b[0m \u001b[0;34m[\u001b[0m\u001b[0;34m]\u001b[0m\u001b[0;34m\u001b[0m\u001b[0;34m\u001b[0m\u001b[0m\n\u001b[1;32m      5\u001b[0m \u001b[0;32mfor\u001b[0m \u001b[0mi\u001b[0m \u001b[0;32min\u001b[0m \u001b[0mrange\u001b[0m\u001b[0;34m(\u001b[0m\u001b[0;36m10\u001b[0m\u001b[0;34m)\u001b[0m \u001b[0;34m:\u001b[0m\u001b[0;34m\u001b[0m\u001b[0;34m\u001b[0m\u001b[0m\n\u001b[0;32m----> 6\u001b[0;31m         \u001b[0marr\u001b[0m\u001b[0;34m.\u001b[0m\u001b[0mappend\u001b[0m\u001b[0;34m(\u001b[0m \u001b[0mint\u001b[0m\u001b[0;34m(\u001b[0m\u001b[0mreadline\u001b[0m\u001b[0;34m(\u001b[0m\u001b[0;34m)\u001b[0m\u001b[0;34m)\u001b[0m \u001b[0;34m%\u001b[0m \u001b[0;36m42\u001b[0m \u001b[0;34m)\u001b[0m\u001b[0;34m\u001b[0m\u001b[0;34m\u001b[0m\u001b[0m\n\u001b[0m\u001b[1;32m      7\u001b[0m \u001b[0mprint\u001b[0m\u001b[0;34m(\u001b[0m \u001b[0mlen\u001b[0m\u001b[0;34m(\u001b[0m\u001b[0mset\u001b[0m\u001b[0;34m(\u001b[0m\u001b[0marr\u001b[0m\u001b[0;34m)\u001b[0m\u001b[0;34m)\u001b[0m \u001b[0;34m)\u001b[0m\u001b[0;34m\u001b[0m\u001b[0;34m\u001b[0m\u001b[0m\n",
            "\u001b[0;31mValueError\u001b[0m: invalid literal for int() with base 10: ''"
          ]
        }
      ]
    },
    {
      "cell_type": "markdown",
      "metadata": {
        "id": "AKMBFky_fLVB",
        "colab_type": "text"
      },
      "source": [
        "### Short Coding\n",
        "\n",
        "set이니까 굳이 선언 없이 바로 {} 안에서 처리.. 와우..\n",
        "\n",
        "그래도 sys.stdin.readline 덕분인지 속도는 위 코드가 조금더 빠름\n"
      ]
    },
    {
      "cell_type": "code",
      "metadata": {
        "id": "ZRKxbyfrdkQL",
        "colab_type": "code",
        "colab": {}
      },
      "source": [
        "print(len({int(input())%42 for _ in'-'*10}))"
      ],
      "execution_count": 0,
      "outputs": []
    },
    {
      "cell_type": "markdown",
      "metadata": {
        "id": "gKNxXyRzddaR",
        "colab_type": "text"
      },
      "source": [
        "## BOJ/5543. 상근날드"
      ]
    },
    {
      "cell_type": "code",
      "metadata": {
        "id": "FCdOPdC-j1_b",
        "colab_type": "code",
        "colab": {}
      },
      "source": [
        "# import sys\n",
        "# input = sys.stdin.readline\n",
        "\n",
        "bg=[int(input()) for _ in range(3)]\n",
        "cc=[int(input()) for _ in range(2)]\n",
        "temp = bg[0] + cc[0]-50\n",
        "for i in bg :\n",
        "    for j in cc :\n",
        "        if i+j-50 <temp :\n",
        "            temp = i+j-50\n",
        "print(temp)"
      ],
      "execution_count": 0,
      "outputs": []
    }
  ]
}